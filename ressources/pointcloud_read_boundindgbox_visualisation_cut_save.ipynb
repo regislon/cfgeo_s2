{
 "cells": [
  {
   "cell_type": "markdown",
   "id": "7233a644",
   "metadata": {},
   "source": [
    "# Lecture des métadonnées d'un nuage de points\n",
    "\n",
    "Pour débuter, nous allons charger un fichier las/laz.\n"
   ]
  },
  {
   "cell_type": "code",
   "execution_count": 2,
   "id": "92e05697",
   "metadata": {},
   "outputs": [
    {
     "name": "stdout",
     "output_type": "stream",
     "text": [
      "CPU times: total: 0 ns\n",
      "Wall time: 6.68 s\n"
     ]
    }
   ],
   "source": [
    "%%time\n",
    "import subprocess\n",
    "import json\n",
    "from shapely.geometry import Polygon\n",
    "from pathlib import Path\n",
    "\n",
    "\n",
    "#chemin du fichier source\n",
    "datasource = Path(r'C:\\Users\\prazm\\Documents\\brevet_pointcloud_python\\data\\input')\n",
    "file = 'test.laz'\n",
    "\n",
    "#exécution de pdal info pour accéder aux métadonnées du fichier \n",
    "result = subprocess.run(['pdal', 'info', datasource/file],\n",
    "                        stderr = subprocess.PIPE,  # stderr and stdout get\n",
    "                        stdout = subprocess.PIPE)  # captured as bytestrings\n",
    "\n",
    "# décode du stdout en bytestring et parsage dans un dictionnaire\n",
    "json_result = json.loads(result.stdout.decode())\n"
   ]
  },
  {
   "cell_type": "markdown",
   "id": "2183c711",
   "metadata": {},
   "source": [
    "Les métadonnées du fichier sont maintenant contenues dans un dictionnaire"
   ]
  },
  {
   "cell_type": "code",
   "execution_count": 3,
   "id": "20a09cde",
   "metadata": {},
   "outputs": [
    {
     "name": "stdout",
     "output_type": "stream",
     "text": [
      "{'file_size': 59893484, 'filename': 'C:\\\\Users\\\\prazm\\\\Documents\\\\brevet_pointcloud_python\\\\data\\\\input\\\\test.laz', 'now': '2022-08-04T08:10:32+0200', 'pdal_version': '2.4.2 (git-version: Release)', 'reader': 'readers.las', 'stats': {'bbox': {'native': {'bbox': {'maxx': 2560957.34, 'maxy': 1145889.72, 'maxz': 1152.7, 'minx': 2560075.67, 'miny': 1145137.73, 'minz': 795.86}, 'boundary': {'type': 'Polygon', 'coordinates': [[[2560075.67, 1145137.73, 795.86], [2560075.67, 1145889.72, 795.86], [2560957.34, 1145889.72, 1152.7], [2560957.34, 1145137.73, 1152.7], [2560075.67, 1145137.73, 795.86]]]}}}, 'statistic': [{'average': 2560567.03, 'count': 10731448, 'maximum': 2560957.34, 'minimum': 2560075.67, 'name': 'X', 'position': 0, 'stddev': 197.4748674, 'variance': 38996.32324}, {'average': 1145498.52, 'count': 10731448, 'maximum': 1145889.72, 'minimum': 1145137.73, 'name': 'Y', 'position': 1, 'stddev': 199.5701792, 'variance': 39828.25643}, {'average': 968.0563265, 'count': 10731448, 'maximum': 1152.7, 'minimum': 795.86, 'name': 'Z', 'position': 2, 'stddev': 76.67245137, 'variance': 5878.6648}, {'average': 305.0072215, 'count': 10731448, 'maximum': 38902, 'minimum': 5, 'name': 'Intensity', 'position': 3, 'stddev': 325.8954585, 'variance': 106207.8499}, {'average': 1.859636556, 'count': 10731448, 'maximum': 7, 'minimum': 1, 'name': 'ReturnNumber', 'position': 4, 'stddev': 1.123816872, 'variance': 1.262964363}, {'average': 2.724653467, 'count': 10731448, 'maximum': 7, 'minimum': 1, 'name': 'NumberOfReturns', 'position': 5, 'stddev': 1.481625519, 'variance': 2.195214179}, {'average': 0, 'count': 10731448, 'maximum': 0, 'minimum': 0, 'name': 'ScanDirectionFlag', 'position': 6, 'stddev': 0, 'variance': 0}, {'average': 0, 'count': 10731448, 'maximum': 0, 'minimum': 0, 'name': 'EdgeOfFlightLine', 'position': 7, 'stddev': 0, 'variance': 0}, {'average': 2.721427901, 'count': 10731448, 'maximum': 6, 'minimum': 1, 'name': 'Classification', 'position': 8, 'stddev': 0.551928326, 'variance': 0.304624877}, {'average': 0.6769320412, 'count': 10731448, 'maximum': 30, 'minimum': -30, 'name': 'ScanAngleRank', 'position': 9, 'stddev': 17.41341698, 'variance': 303.2270909}, {'average': 59.5624692, 'count': 10731448, 'maximum': 255, 'minimum': 0, 'name': 'UserData', 'position': 10, 'stddev': 15.14312301, 'variance': 229.3141745}, {'average': 7090.089952, 'count': 10731448, 'maximum': 7093, 'minimum': 7087, 'name': 'PointSourceId', 'position': 11, 'stddev': 1.085120256, 'variance': 1.177485971}, {'average': 223559539.5, 'count': 10731448, 'maximum': 223621615.1, 'minimum': 223556209.2, 'name': 'GpsTime', 'position': 12, 'stddev': 1104.076953, 'variance': 1218985.919}]}}\n"
     ]
    }
   ],
   "source": [
    "print (json_result)"
   ]
  },
  {
   "cell_type": "markdown",
   "id": "c0a0a4c6",
   "metadata": {},
   "source": [
    "# Création d'un poylgon selon l'emprise boundary\n",
    "\n",
    "Grace aux métadonnées et plus spécifiquement à l'attribut **boundary**, nous récupérons l'emprise du nuage de points"
   ]
  },
  {
   "cell_type": "code",
   "execution_count": 4,
   "id": "8ef39506",
   "metadata": {},
   "outputs": [
    {
     "name": "stdout",
     "output_type": "stream",
     "text": [
      "[[[2560075.67, 1145137.73, 795.86], [2560075.67, 1145889.72, 795.86], [2560957.34, 1145889.72, 1152.7], [2560957.34, 1145137.73, 1152.7], [2560075.67, 1145137.73, 795.86]]]\n"
     ]
    }
   ],
   "source": [
    "coords = json_result['stats']['bbox']['native']['boundary']['coordinates']\n",
    "print (coords)\n",
    "bbox_poly = Polygon(*coords)"
   ]
  },
  {
   "cell_type": "markdown",
   "id": "40a979cd",
   "metadata": {},
   "source": [
    "Nous remarquons que les coordonnées dépendent du sysème de projection du fichier (en l'occurence Swiss CH1903+ / LV95).\n",
    "\n",
    "Nous souhaitons visualiser l'emprise avec **ipyleaflet** (une intégration de LeafletJS à Jupyter). Nous devons donc **reprojeter** l'emprise de ch1903plus vers le crs par défaut d'ipyleflet (WGS84)."
   ]
  },
  {
   "cell_type": "code",
   "execution_count": 5,
   "id": "3cb0833e",
   "metadata": {},
   "outputs": [
    {
     "data": {
      "image/svg+xml": [
       "<svg xmlns=\"http://www.w3.org/2000/svg\" xmlns:xlink=\"http://www.w3.org/1999/xlink\" width=\"100.0\" height=\"100.0\" viewBox=\"6.918448247975792 46.45591596560109 0.01246405361828895 0.007739890081381873\" preserveAspectRatio=\"xMinYMin meet\"><g transform=\"matrix(1,0,0,-1,0,92.91957182128357)\"><path fill-rule=\"evenodd\" fill=\"#66cc99\" stroke=\"#555555\" stroke-width=\"0.000249281072365779\" opacity=\"0.6\" d=\"M 6.918974882598839,46.45637759721659 L 6.918909879591284,46.463142062180104 L 6.930387099755627,46.46319422406698 L 6.930450669978589,46.456429752607086 L 6.918974882598839,46.45637759721659 z\" /></g></svg>"
      ],
      "text/plain": [
       "<shapely.geometry.polygon.Polygon at 0x1f8d7053eb0>"
      ]
     },
     "metadata": {},
     "output_type": "display_data"
    },
    {
     "name": "stdout",
     "output_type": "stream",
     "text": [
      "POLYGON Z ((6.918974882598839 46.45637759721659 795.86, 6.918909879591284 46.463142062180104 795.86, 6.930387099755627 46.46319422406698 1152.7, 6.930450669978589 46.456429752607086 1152.7, 6.918974882598839 46.45637759721659 795.86))\n"
     ]
    },
    {
     "data": {
      "application/vnd.jupyter.widget-view+json": {
       "model_id": "66c4f8cab25b42618ead7083d47843f0",
       "version_major": 2,
       "version_minor": 0
      },
      "text/plain": [
       "Map(center=[46.45978597939353, 6.92468063231009], controls=(ZoomControl(options=['position', 'zoom_in_text', '…"
      ]
     },
     "metadata": {},
     "output_type": "display_data"
    }
   ],
   "source": [
    "import pyproj\n",
    "import IPython.display\n",
    "import ipyleaflet\n",
    "from ipyleaflet import Map, WKTLayer\n",
    "from shapely.ops import transform\n",
    "wsg84 = 'epsg:4326'\n",
    "ch1903plus= 'epsg:2056'\n",
    "project  = pyproj.Transformer.from_crs(ch1903plus, wsg84, always_xy=True).transform\n",
    "wsg84_bbox_poly=transform(project, bbox_poly)\n",
    "IPython.display.display(wsg84_bbox_poly)\n",
    "print(wsg84_bbox_poly.wkt)\n",
    "m = ipyleaflet.Map(center=(wsg84_bbox_poly.centroid.y, wsg84_bbox_poly.centroid.x), zoom=14)\n",
    "wlayer = WKTLayer( wkt_string=wsg84_bbox_poly.wkt,)\n",
    "m.add_layer(wlayer)\n",
    "m"
   ]
  },
  {
   "cell_type": "markdown",
   "id": "7f6f9b93",
   "metadata": {},
   "source": [
    "Nous voyons donc ci-dessus l'emrpise du nuage de points. De manière plus précise, c'est l'emprise rectangulaire définie par les coordonnées minimales et maximales des points."
   ]
  },
  {
   "cell_type": "markdown",
   "id": "db05c7cb",
   "metadata": {},
   "source": [
    "# Extraction des points\n",
    "\n",
    "Nous souhaitons traiter une zone en particulier. Je vous propose de saisir cette zone via l'outil **Draw a polygon** un polygone de la zone à extraire."
   ]
  },
  {
   "cell_type": "code",
   "execution_count": 6,
   "id": "f2fbb60d",
   "metadata": {
    "scrolled": true
   },
   "outputs": [
    {
     "data": {
      "application/vnd.jupyter.widget-view+json": {
       "model_id": "99bbde98d5634d0ab15b693bdec76e42",
       "version_major": 2,
       "version_minor": 0
      },
      "text/plain": [
       "Map(center=[46.45978597939353, 6.92468063231009], controls=(ZoomControl(options=['position', 'zoom_in_text', '…"
      ]
     },
     "metadata": {},
     "output_type": "display_data"
    }
   ],
   "source": [
    "from pyproj import Transformer\n",
    "m = ipyleaflet.Map(center=(wsg84_bbox_poly.centroid.y, wsg84_bbox_poly.centroid.x), zoom=16)\n",
    "wlayer = WKTLayer( wkt_string=wsg84_bbox_poly.wkt,)\n",
    "m.add_layer(wlayer)\n",
    "dc = ipyleaflet.DrawControl()\n",
    "m.add_control(dc)\n",
    "m"
   ]
  },
  {
   "cell_type": "markdown",
   "id": "cf80da1f",
   "metadata": {},
   "source": [
    "Une fois le polygone tracé avec l'outil polygone, exécuter la cellule suivante."
   ]
  },
  {
   "cell_type": "code",
   "execution_count": 7,
   "id": "8b0cc8a9",
   "metadata": {},
   "outputs": [
    {
     "name": "stdout",
     "output_type": "stream",
     "text": [
      "POLYGON ((2560346.377604345 1145513.638549204, 2560768.9669661047 1145545.7726707803, 2560764.5502249757 1145504.669476456, 2560468.92921883 1145352.6388801646, 2560346.377604345 1145513.638549204))\n"
     ]
    },
    {
     "data": {
      "image/svg+xml": [
       "<svg xmlns=\"http://www.w3.org/2000/svg\" xmlns:xlink=\"http://www.w3.org/1999/xlink\" width=\"300\" height=\"226.94093955657445\" viewBox=\"2560329.4740298744 1145335.7353056942 456.3965107006952 226.94093955657445\" preserveAspectRatio=\"xMinYMin meet\"><g transform=\"matrix(1,0,0,-1,0,2290898.4115509447)\"><path fill-rule=\"evenodd\" fill=\"#66cc99\" stroke=\"#555555\" stroke-width=\"3.0426434046713013\" opacity=\"0.6\" d=\"M 2560346.377604345,1145513.638549204 L 2560768.9669661047,1145545.7726707803 L 2560764.5502249757,1145504.669476456 L 2560468.92921883,1145352.6388801646 L 2560346.377604345,1145513.638549204 z\" /></g></svg>"
      ],
      "text/plain": [
       "<shapely.geometry.polygon.Polygon at 0x1f8d7185d90>"
      ]
     },
     "metadata": {},
     "output_type": "display_data"
    }
   ],
   "source": [
    "from pyproj import transformer\n",
    "import shapely\n",
    "transformer = Transformer.from_crs(wsg84, ch1903plus)\n",
    "coords_draw = [transformer.transform(y,x) for (x,y) in dc.last_draw['geometry']['coordinates'][0]]\n",
    "polygon_draw = shapely.geometry.Polygon(coords_draw)\n",
    "print(polygon_draw.wkt)\n",
    "IPython.display.display(polygon_draw)"
   ]
  },
  {
   "cell_type": "markdown",
   "id": "51b2ee8c",
   "metadata": {},
   "source": [
    "Ci-dessus, le polygone que nous avons dessiné."
   ]
  },
  {
   "cell_type": "code",
   "execution_count": 8,
   "id": "5d25f752",
   "metadata": {},
   "outputs": [
    {
     "name": "stdout",
     "output_type": "stream",
     "text": [
      "(2560346.377604345, 1145352.6388801646, 2560768.9669661047, 1145545.7726707803)\n"
     ]
    }
   ],
   "source": [
    "print(polygon_draw.bounds)"
   ]
  },
  {
   "cell_type": "markdown",
   "id": "00f91740",
   "metadata": {},
   "source": [
    "Via PDAL, nous allons **filtrer** les points du nuage d'origine en fonction du poylgone que nous venons de déterminer."
   ]
  },
  {
   "cell_type": "code",
   "execution_count": 9,
   "id": "0f12dc6e",
   "metadata": {},
   "outputs": [
    {
     "name": "stdout",
     "output_type": "stream",
     "text": [
      "CPU times: total: 21.1 s\n",
      "Wall time: 21.9 s\n",
      "Pipeline selected 797819 points (19.1 pts/m2)\n"
     ]
    }
   ],
   "source": [
    "import pdal\n",
    "polygon_draw_bounds = polygon_draw.bounds\n",
    "cropper = {\n",
    "    \"pipeline\": [str(datasource/file),\n",
    "        {   \"type\":\"filters.crop\",\n",
    "            'bounds':str(([polygon_draw_bounds[0], polygon_draw_bounds[2]],[polygon_draw_bounds[1], polygon_draw_bounds[3]]))},\n",
    "        {   \"type\":\"filters.crop\",\n",
    "            'polygon':polygon_draw.wkt},\n",
    "        {   \"type\":\"filters.eigenvalues\",\n",
    "            \"knn\":16},\n",
    "        {   \"type\":\"filters.normal\",\n",
    "            \"knn\":16}\n",
    "    ]}\n",
    "pipeline = pdal.Pipeline(json.dumps(cropper))\n",
    "#pipeline.validate()\n",
    "%time n_points = pipeline.execute()\n",
    "\n",
    "print('Pipeline selected {} points ({:.1f} pts/m2)'.format(n_points, n_points/polygon_draw.area))"
   ]
  },
  {
   "cell_type": "markdown",
   "id": "323bbef2",
   "metadata": {},
   "source": [
    "# Visualisation\n",
    "\n",
    "Nous allons visualiser les points extraits via **Ipyvolume**."
   ]
  },
  {
   "cell_type": "code",
   "execution_count": 10,
   "id": "aab28eed",
   "metadata": {},
   "outputs": [],
   "source": [
    "import ipyvolume.pylab as p3\n",
    "import pandas as pd\n",
    "# Load Pipeline output in python objects\n",
    "arr = pipeline.arrays[0]\n",
    "description = arr.dtype.descr\n",
    "cols = [col for col, __ in description]\n",
    "df = pd.DataFrame({col: arr[col] for col in cols})\n",
    "df['X_0'] = df['X']\n",
    "df['Y_0'] = df['Y']\n",
    "df['Z_0'] = df['Z']\n",
    "df['X'] = df['X'] - df['X_0'].min()\n",
    "df['Y'] = df['Y'] - df['Y_0'].min()\n",
    "df['Z'] = df['Z'] - df['Z_0'].min()"
   ]
  },
  {
   "cell_type": "code",
   "execution_count": 12,
   "id": "cdf2a834",
   "metadata": {},
   "outputs": [
    {
     "data": {
      "application/vnd.jupyter.widget-view+json": {
       "model_id": "17efbd76367e47f9ae27b20a6a3ae3ff",
       "version_major": 2,
       "version_minor": 0
      },
      "text/plain": [
       "VBox(children=(Figure(camera=PerspectiveCamera(fov=46.0, position=(0.0, 0.0, 2.0), projectionMatrix=(1.0, 0.0,…"
      ]
     },
     "metadata": {},
     "output_type": "display_data"
    }
   ],
   "source": [
    "fig = p3.figure(width=600)\n",
    "fig.xlabel='Y'\n",
    "fig.ylabel='Z'\n",
    "fig.zlabel='X'\n",
    "all_points = p3.scatter(df['Y'], df['Z'], df['X'], color='red', size=.2)\n",
    "p3.squarelim()\n",
    "p3.show()"
   ]
  },
  {
   "cell_type": "markdown",
   "id": "69e8dcfd",
   "metadata": {},
   "source": [
    "Travaille du rendu pour que ce soit plus compréhensible. On crée une surface avec les points \"groud\" puis ces points sont supprimés."
   ]
  },
  {
   "cell_type": "code",
   "execution_count": 13,
   "id": "e17e6cf1",
   "metadata": {},
   "outputs": [],
   "source": [
    "import scipy\n",
    "# Color ground in grey\n",
    "df['ground'] = df['Classification']==2\n",
    "ground = p3.scatter(df.loc[df['ground'],'Y'].values, df.loc[df['ground'],'Z'].values, df.loc[df['ground'],'X'].values, color='red', size=.2)\n",
    "non_ground = p3.scatter(df.loc[~df['ground'],'Y'].values, df.loc[~df['ground'],'Z'].values, df.loc[~df['ground'],'X'].values, color='red', size=.2)\n",
    "fig.scatters.append(ground)\n",
    "#fig.scatters.append(non_ground)\n",
    "all_points.visible = False\n",
    "ground.color='lightgrey'\n",
    "# Show ground as surface\n",
    "ground_delaunay = scipy.spatial.Delaunay(df.loc[df['ground'],['X','Y']])\n",
    "ground_surf = p3.plot_trisurf(df.loc[df['ground'],'Y'], df.loc[df['ground'],'Z'], df.loc[df['ground'],'X'], ground_delaunay.simplices, color='lightgrey')\n",
    "fig.meshes.append(ground_surf)\n",
    "ground.visible=False"
   ]
  },
  {
   "cell_type": "markdown",
   "id": "93032d36",
   "metadata": {},
   "source": [
    "# Enregistrement\n",
    "\n"
   ]
  },
  {
   "cell_type": "code",
   "execution_count": null,
   "id": "21750ac7",
   "metadata": {},
   "outputs": [],
   "source": []
  }
 ],
 "metadata": {
  "kernelspec": {
   "display_name": "Python 3 (ipykernel)",
   "language": "python",
   "name": "python3"
  },
  "language_info": {
   "codemirror_mode": {
    "name": "ipython",
    "version": 3
   },
   "file_extension": ".py",
   "mimetype": "text/x-python",
   "name": "python",
   "nbconvert_exporter": "python",
   "pygments_lexer": "ipython3",
   "version": "3.8.10"
  }
 },
 "nbformat": 4,
 "nbformat_minor": 5
}
