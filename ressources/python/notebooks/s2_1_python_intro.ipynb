{
 "cells": [
  {
   "cell_type": "markdown",
   "metadata": {},
   "source": [
    "# Chapitre 1 : Au début était la variable"
   ]
  },
  {
   "cell_type": "markdown",
   "metadata": {},
   "source": [
    "-- Source : *A Python Course for the Humanities by Folgert Karsdorp and Maarten van Gompel*"
   ]
  },
  {
   "cell_type": "markdown",
   "metadata": {},
   "source": [
    "---"
   ]
  },
  {
   "cell_type": "code",
   "execution_count": null,
   "metadata": {
    "scrolled": true
   },
   "outputs": [],
   "source": [
    "print(\"A vos marques, prêts, partez!\")"
   ]
  },
  {
   "cell_type": "markdown",
   "metadata": {},
   "source": [
    "Tout le monde peut apprendre comment programmer et le meilleur moyen d'apprendre, c'est de faire. Dans ce tutoriel, nous vous demanderons d'écrire beaucoup de code. Cliquez sur un bloc de code dans ce tutoriel, comme celui d'au-dessus, et appuyez sur ctrl+entrée pour le lancer. Commençons dès lors et écrivons notre premier petit programme!"
   ]
  },
  {
   "cell_type": "markdown",
   "metadata": {},
   "source": [
    "----------"
   ]
  },
  {
   "cell_type": "markdown",
   "metadata": {},
   "source": [
    "#### Quiz!"
   ]
  },
  {
   "cell_type": "markdown",
   "metadata": {},
   "source": [
    "Dans la boîte ci-dessous, écris un programme simple qui calcule combien de minutes il y a en 7 semaines."
   ]
  },
  {
   "cell_type": "code",
   "execution_count": null,
   "metadata": {
    "scrolled": true
   },
   "outputs": [],
   "source": [
    "# Votre code ici"
   ]
  },
  {
   "cell_type": "markdown",
   "metadata": {},
   "source": [
    "-----------"
   ]
  },
  {
   "cell_type": "markdown",
   "metadata": {},
   "source": [
    "Félicitations ! Tu as écrit ton premier petit programme et tu l'as fait sans aide! Bon, maintenant, on va essayer d'aller plus loin qu'une simple calculette. Avant que l'on vous demande d'écrire un autre programme, parlons d'abord de ce que l'on appelle l'assignation (`assignment`).\n",
    "\n",
    "On peut assigner des valeurs aux variables en utilisant l'opérateur `=`. Une variable est juste un nom auquel on assigne une valeur particulière. Un peu comme une boîte dans laquelle on rangerait des choses et sur laquelle on écrirait au marqueur noir un nom pour se souvenir de son contenu. Le bloc suivant contient deux opérations. D'abord, on assigne 2 à la variable `x`. `x` contient donc désormais `2`. Après on fait ce que l'on veut avec cette valeur. On peut par exemple l'afficher en utiliser la commande `print()`."
   ]
  },
  {
   "cell_type": "code",
   "execution_count": 1,
   "metadata": {
    "scrolled": true
   },
   "outputs": [
    {
     "name": "stdout",
     "output_type": "stream",
     "text": [
      "2\n"
     ]
    }
   ],
   "source": [
    "x = 2\n",
    "print(x)"
   ]
  },
  {
   "cell_type": "markdown",
   "metadata": {},
   "source": [
    "Maintenant qu'on a enregistré la valeur 2 dans `x`, on peut utiliser cette variable pour faire ce qui suit :"
   ]
  },
  {
   "cell_type": "code",
   "execution_count": 2,
   "metadata": {
    "scrolled": true
   },
   "outputs": [
    {
     "name": "stdout",
     "output_type": "stream",
     "text": [
      "4\n",
      "True\n",
      "False\n"
     ]
    }
   ],
   "source": [
    "print(x * x)\n",
    "print(x == x)\n",
    "print(x > 6)"
   ]
  },
  {
   "cell_type": "markdown",
   "metadata": {},
   "source": [
    "Peux-tu te rendre compte de ce qui se passe ici ?\n",
    "\n",
    "Les variables peuvent bien sûr contenir autre chose que des nombres. Elles peuvent contenir du texte, appelé chaîne de caractère ou _string_ en anglais. Par exemple :"
   ]
  },
  {
   "cell_type": "code",
   "execution_count": null,
   "metadata": {
    "scrolled": true
   },
   "outputs": [],
   "source": [
    "book = \"Les Mains Sales\"\n",
    "print(book)"
   ]
  },
  {
   "cell_type": "markdown",
   "metadata": {},
   "source": [
    "Une chaîne de caractère en python doit être comprise entre des guillemets (simples ou doubles). Sans ces guillemets, Python pense que l'on fait appel à des variables. Il s'agit d'un élément de distinction primordial. `book` est une variable qui contient la chaîne `\"Les Mains Sales\"`.\n",
    "\n",
    "Regardons ce qu'il se passe si on oublie les guillemets:"
   ]
  },
  {
   "cell_type": "code",
   "execution_count": null,
   "metadata": {
    "scrolled": true
   },
   "outputs": [],
   "source": [
    "book = Les"
   ]
  },
  {
   "cell_type": "markdown",
   "metadata": {},
   "source": [
    "Les messages d'erreur sont une partie importante de la programmation et savoir comment les interpréter est essentiel. Cette erreur nous informe que le nom `Les` n'est pas défini. Cela veut dire qu'il n'y a aucune variable qui existe avec le nom `Les`. Désormais, quand vous verrez ce message, vous saurez ce qu'il veut dire. Pour le corriger, vous devez soit définir une variable qui se nome `Les` soit, si vous vouliez assigner la chaîne \"The\" à `book` la mettre dans des guillemets."
   ]
  },
  {
   "cell_type": "markdown",
   "metadata": {},
   "source": [
    "Les noms de variables sont des choses arbitraires. *On* donne à une certaine valeur un nom, et le choix de ce nom est clairement libre. Il est cependant recommandé d'utiliser des noms de variables qui font sens et qui nous permettront de nous rappeler de leur contenu."
   ]
  },
  {
   "cell_type": "code",
   "execution_count": null,
   "metadata": {
    "scrolled": true
   },
   "outputs": [],
   "source": [
    "# À éviter...\n",
    "banane = \"Les Mains Sales\"\n",
    "print(banane)"
   ]
  },
  {
   "cell_type": "markdown",
   "metadata": {},
   "source": [
    "Vous avez le droit d'utiliser le nom `banane` pour contenir le titre `\"Les Mains Sales\"` mais vous êtes d'accord que pour vous et pour les autres, se rappeler que l'un contient l'autre va être difficile.\n",
    "\n",
    "Les variables peuvent évoluer, on peut mettre à jour nos variables.\n",
    "\n",
    "Disons que nous avons compté le nombre de mémoires dans le bureau :"
   ]
  },
  {
   "cell_type": "code",
   "execution_count": 4,
   "metadata": {
    "scrolled": true
   },
   "outputs": [],
   "source": [
    "nombre_de_memoires = 100"
   ]
  },
  {
   "cell_type": "markdown",
   "metadata": {},
   "source": [
    "Et après une soutenance tardive, on en obtient un nouveau. On met alors à jour le nombre de livres :"
   ]
  },
  {
   "cell_type": "code",
   "execution_count": 5,
   "metadata": {
    "scrolled": true
   },
   "outputs": [
    {
     "name": "stdout",
     "output_type": "stream",
     "text": [
      "101\n"
     ]
    }
   ],
   "source": [
    "nombre_de_memoires = nombre_de_memoires + 1\n",
    "print(nombre_de_memoires)"
   ]
  },
  {
   "cell_type": "markdown",
   "metadata": {},
   "source": [
    "Des mises à jour comme celles-ci arrivent souvent. Python et d'autres langages fournissent un raccourci : vous pouvez écrire la même chose en faisant `+=`"
   ]
  },
  {
   "cell_type": "code",
   "execution_count": 6,
   "metadata": {
    "scrolled": true
   },
   "outputs": [
    {
     "name": "stdout",
     "output_type": "stream",
     "text": [
      "106\n"
     ]
    }
   ],
   "source": [
    "nombre_de_memoires += 5\n",
    "print(nombre_de_memoires)"
   ]
  },
  {
   "cell_type": "markdown",
   "metadata": {},
   "source": [
    "La dernière chose à savoir sur ces variables pour le moment c'est que l'on peut assigner la valeur d'une variable à une autre variable. On en verra un peu plus à ce sujet plus tard, mais pour l'instant, apprenons les bases de ce mécanisme. \n",
    "\n",
    "**Avant d'exécuter le code suivant, pouvez-vous prévoir ce que Python va afficher ?**"
   ]
  },
  {
   "cell_type": "code",
   "execution_count": 7,
   "metadata": {
    "scrolled": true
   },
   "outputs": [
    {
     "name": "stdout",
     "output_type": "stream",
     "text": [
      "The Lord of the Flies\n"
     ]
    }
   ],
   "source": [
    "livre = \"The Lord of the Flies\"\n",
    "en_cours_de_lecture = livre\n",
    "print(en_cours_de_lecture)"
   ]
  },
  {
   "cell_type": "markdown",
   "metadata": {},
   "source": [
    "----------"
   ]
  },
  {
   "cell_type": "markdown",
   "metadata": {},
   "source": [
    "#### Exercice !"
   ]
  },
  {
   "cell_type": "markdown",
   "metadata": {},
   "source": [
    "Maintenant que vous avez compris l'assignation de valeurs à des variables, il est temps de faire un exercice. Nous voulons que vous écriviez du code qui définit une variable, *nom*, et que vous assignez comme valeur votre prénom. Si votre nom est plus petit que 5 lettres, utilisez votre nom de famille. Si vous nom de famille est trop court, utilisez la combinaison de votre prénom et nom de famille."
   ]
  },
  {
   "cell_type": "code",
   "execution_count": null,
   "metadata": {
    "scrolled": true
   },
   "outputs": [],
   "source": [
    "# Écrivez le code ici"
   ]
  },
  {
   "cell_type": "markdown",
   "metadata": {},
   "source": [
    "--------------"
   ]
  },
  {
   "cell_type": "markdown",
   "metadata": {},
   "source": [
    "##### Ce que l'on a appris"
   ]
  },
  {
   "cell_type": "markdown",
   "metadata": {},
   "source": [
    "Pour finir cette section, voici un récapitulatif des concepts appris. Lisez la liste et posez des questions si certaines choses ne sont pas claires.\n",
    "\n",
    "-  variable\n",
    "-  valeur\n",
    "-  assignation de valeur\n",
    "-  différence entre variables et valeurs\n",
    "-  chaînes (*string*)\n",
    "-  nombres entiers (*integer*)\n",
    "-  faire évoluer des variables"
   ]
  },
  {
   "cell_type": "markdown",
   "metadata": {},
   "source": [
    "------"
   ]
  },
  {
   "cell_type": "markdown",
   "metadata": {},
   "source": [
    "## Manipulation de chaînes"
   ]
  },
  {
   "cell_type": "markdown",
   "metadata": {},
   "source": [
    "De nombreuses disciplines dans les sciences humaines travaillent sur des textes. Tout naturellement, la programmation pour les sciences humaines se concentrera beaucoup sur la manipulation des textes. Dans le dernier quiz, il vous a été demandé de définir une variable qui pointe vers une chaîne représentant votre nom. Nous avons déjà vu une certaine arithmétique de base dans notre tout premier calcul. Non seulement les nombres, mais aussi les chaînes peuvent être ajoutées, ou, plus précisément, *concaténées*, ensemble aussi:"
   ]
  },
  {
   "cell_type": "code",
   "execution_count": null,
   "metadata": {
    "scrolled": true
   },
   "outputs": [],
   "source": [
    "livre = \"Les Mains Sales\"\n",
    "print(nom + \" aime \" + livre + \"?\")"
   ]
  },
  {
   "cell_type": "markdown",
   "metadata": {},
   "source": [
    "La chaîne est faite d'un certain nombre de caractères. Il est possible d'accéder à chacun des caractères grâce à l'`indexation`. Par exemple, pour trouver la première lettre de votre nom, vous pouvez taper :"
   ]
  },
  {
   "cell_type": "code",
   "execution_count": null,
   "metadata": {
    "scrolled": true
   },
   "outputs": [],
   "source": [
    "premiere_lettre = nom[0]\n",
    "print(premiere_lettre)"
   ]
  },
  {
   "cell_type": "markdown",
   "metadata": {},
   "source": [
    "Remarquez que pour accéder à la première lettre, nous avons utilisé l'index `0`. Cela peut sembler bizarre, mais c'est simplement que Python indexe à partir de 0."
   ]
  },
  {
   "cell_type": "markdown",
   "metadata": {},
   "source": [
    "----------"
   ]
  },
  {
   "cell_type": "markdown",
   "metadata": {},
   "source": [
    "#### Exercice"
   ]
  },
  {
   "cell_type": "markdown",
   "metadata": {},
   "source": [
    "Maintenant que vous connaissez cela, accédez à la dernière lettre de votre nom:"
   ]
  },
  {
   "cell_type": "code",
   "execution_count": null,
   "metadata": {
    "scrolled": true
   },
   "outputs": [],
   "source": [
    "# Votre code ici"
   ]
  },
  {
   "cell_type": "markdown",
   "metadata": {},
   "source": [
    "---------"
   ]
  },
  {
   "cell_type": "markdown",
   "metadata": {},
   "source": [
    "Il est peu pratique d'avoir à connaître la longueur d'une chaîne pour accéder à la dernière lettre de celle-ci. Python fournit un moyen simple d'accéder à une chaîne depuis l'arrière:"
   ]
  },
  {
   "cell_type": "code",
   "execution_count": null,
   "metadata": {
    "scrolled": true
   },
   "outputs": [],
   "source": [
    "derniere_lettre = nom[-1]\n",
    "print(derniere_lettre)"
   ]
  },
  {
   "cell_type": "markdown",
   "metadata": {},
   "source": [
    "Sinon, il y a la fonction `len()` qui retourne la longueur de chaîne:"
   ]
  },
  {
   "cell_type": "code",
   "execution_count": null,
   "metadata": {
    "scrolled": true
   },
   "outputs": [],
   "source": [
    "print(len(nom))"
   ]
  },
  {
   "cell_type": "markdown",
   "metadata": {},
   "source": [
    "### Question \n",
    "Pouvez-vous expliquer ce qui suit ?"
   ]
  },
  {
   "cell_type": "code",
   "execution_count": null,
   "metadata": {
    "scrolled": true
   },
   "outputs": [],
   "source": [
    "print(nom[len(nom)-1])"
   ]
  },
  {
   "cell_type": "markdown",
   "metadata": {},
   "source": [
    "---------"
   ]
  },
  {
   "cell_type": "markdown",
   "metadata": {},
   "source": [
    "#### Exercice"
   ]
  },
  {
   "cell_type": "markdown",
   "metadata": {},
   "source": [
    "Écrivez un programme qui écrit dans la variable `avant_derniere` et assignez-y la valeur de l'avant-dernière lettre de votre nom."
   ]
  },
  {
   "cell_type": "code",
   "execution_count": null,
   "metadata": {
    "scrolled": true
   },
   "outputs": [],
   "source": [
    "# Votre code ici"
   ]
  },
  {
   "cell_type": "markdown",
   "metadata": {},
   "source": [
    "------"
   ]
  },
  {
   "cell_type": "markdown",
   "metadata": {},
   "source": [
    "Vous commencez à devenir un-e véritable expert-e dans l'indexation des chaînes. Maintenant, que se passe-t-il si nous voulons savoir quelles sont les deux ou trois dernières lettres de notre nom? En Python, nous pouvons utiliser ce qu'on appelle des index de tranches ou des tranches pour faire court (*slices*). Pour trouver les deux premières lettres de notre nom, nous tapons:"
   ]
  },
  {
   "cell_type": "code",
   "execution_count": null,
   "metadata": {
    "scrolled": true
   },
   "outputs": [],
   "source": [
    "premiere_deux_lettres = nom[0:2]\n",
    "print(premiere_deux_lettres)"
   ]
  },
  {
   "cell_type": "markdown",
   "metadata": {},
   "source": [
    "L'index `0` est optionnel, on aurait pu tout à fait taper `nom[:2]`. Cela se traduit en français par : prendre tous les caractères jusqu'à arriver à l'index `2`. On peut aussi commencer au caractère `2` et aller jusqu'à la fin:"
   ]
  },
  {
   "cell_type": "code",
   "execution_count": null,
   "metadata": {
    "scrolled": true
   },
   "outputs": [],
   "source": [
    "sauf_les_deux_premieres = nom[2:]\n",
    "print(sauf_les_deux_premieres)"
   ]
  },
  {
   "cell_type": "markdown",
   "metadata": {},
   "source": [
    "Parce que nous n'avons pas spécifié de fin, Python a continué jusqu'à la fin de la chaîne. Si l'on avait voulu trouver les deux dernières lettres de notre nom, on aurait pu taper :"
   ]
  },
  {
   "cell_type": "code",
   "execution_count": null,
   "metadata": {
    "scrolled": true
   },
   "outputs": [],
   "source": [
    "dernieres_deux_lettres = nom[-2:]\n",
    "print(dernieres_deux_lettres)"
   ]
  },
  {
   "cell_type": "markdown",
   "metadata": {},
   "source": [
    "Regardez ce qui suit. Le comprenez vous ?? \n",
    "<div style=\"display:block; text-align:center;\"><img src=\"http://www.nltk.org/images/string-slicing.png\" align=center /></div>"
   ]
  },
  {
   "cell_type": "markdown",
   "metadata": {},
   "source": [
    "-------"
   ]
  },
  {
   "cell_type": "markdown",
   "metadata": {},
   "source": [
    "#### Exercice!"
   ]
  },
  {
   "cell_type": "markdown",
   "metadata": {},
   "source": [
    "Définissez une variable `lettres_du_milieu` et assignez-y l'ensemble des caractères de votre `nom` sauf les deux premières et deux dernières :"
   ]
  },
  {
   "cell_type": "code",
   "execution_count": null,
   "metadata": {
    "scrolled": true
   },
   "outputs": [],
   "source": [
    "# Votre code ici"
   ]
  },
  {
   "cell_type": "markdown",
   "metadata": {},
   "source": [
    "En utilisant les deux mots suivants, pouvez-vous écrire un code qui affichera \"*humanités*\" en utilisant uniquement les tranches et la concaténation ?"
   ]
  },
  {
   "cell_type": "code",
   "execution_count": null,
   "metadata": {
    "scrolled": true
   },
   "outputs": [],
   "source": [
    "mot1 = \"humanisant\"\n",
    "mot2 = \"opportunités\"\n",
    "# Votre code ici"
   ]
  },
  {
   "cell_type": "markdown",
   "metadata": {},
   "source": [
    "----------"
   ]
  },
  {
   "cell_type": "markdown",
   "metadata": {},
   "source": [
    "##### Ce que nous avons appris"
   ]
  },
  {
   "cell_type": "markdown",
   "metadata": {},
   "source": [
    "Pour finir cette section, voici un récapitulatif des concepts appris. Lisez la liste et posez des questions si certaines choses ne sont pas claires.\n",
    "\n",
    "-  concaténation (p. ex. somme de chaînes de caractères)\n",
    "-  indexation\n",
    "-  tranches\n",
    "-  `len()`"
   ]
  },
  {
   "cell_type": "markdown",
   "metadata": {},
   "source": [
    "<p><small><a rel=\"license\" href=\"http://creativecommons.org/licenses/by-sa/4.0/\"><img alt=\"Creative Commons License\" style=\"border-width:0\" src=\"https://i.creativecommons.org/l/by-sa/4.0/88x31.png\" /></a><br /><span xmlns:dct=\"http://purl.org/dc/terms/\" property=\"dct:title\">Python Programming for the Humanities</span> by <a xmlns:cc=\"http://creativecommons.org/ns#\" href=\"http://fbkarsdorp.github.io/python-course\" property=\"cc:attributionName\" rel=\"cc:attributionURL\">http://fbkarsdorp.github.io/python-course</a> is licensed under a <a rel=\"license\" href=\"http://creativecommons.org/licenses/by-sa/4.0/\">Creative Commons Attribution-ShareAlike 4.0 International License</a>. Based on a work at <a xmlns:dct=\"http://purl.org/dc/terms/\" href=\"https://github.com/fbkarsdorp/python-course\" rel=\"dct:source\">https://github.com/fbkarsdorp/python-course</a>.</small></p>"
   ]
  }
 ],
 "metadata": {
  "kernelspec": {
   "display_name": "Python 3 (ipykernel)",
   "language": "python",
   "name": "python3"
  },
  "language_info": {
   "codemirror_mode": {
    "name": "ipython",
    "version": 3
   },
   "file_extension": ".py",
   "mimetype": "text/x-python",
   "name": "python",
   "nbconvert_exporter": "python",
   "pygments_lexer": "ipython3",
   "version": "3.8.10"
  },
  "toc": {
   "base_numbering": 1,
   "nav_menu": {},
   "number_sections": true,
   "sideBar": true,
   "skip_h1_title": false,
   "title_cell": "Table of Contents",
   "title_sidebar": "Contents",
   "toc_cell": false,
   "toc_position": {},
   "toc_section_display": true,
   "toc_window_display": true
  }
 },
 "nbformat": 4,
 "nbformat_minor": 1
}
