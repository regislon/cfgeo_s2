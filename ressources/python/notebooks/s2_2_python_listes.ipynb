{
	"cells": [
		{
			"cell_type": "markdown",
			"metadata": {},
			"source": [
				"## Les Listes"
			]
		},
		{
			"cell_type": "markdown",
			"metadata": {},
			"source": [
				"Prenez, si vous le voulez, la chaîne suivante"
			]
		},
		{
			"cell_type": "code",
			"execution_count": null,
			"metadata": {
				"scrolled": true
			},
			"outputs": [],
			"source": [
				"phrase = \"Le nom Python est dérivé de la série télévisée Monty Python's Flying Circus.\""
			]
		},
		{
			"cell_type": "markdown",
			"metadata": {},
			"source": [
				"Les mots sont composés de caractères, de même que les chaînes en Python. Maintenant, pour la phrase ci-dessus, il semble plus naturel de la décrire en termes de mots qu'en termes de caractères. Disons que nous voulons accéder au premier mot de notre phrase. Si nous tapons:"
			]
		},
		{
			"cell_type": "code",
			"execution_count": null,
			"metadata": {
				"scrolled": true
			},
			"outputs": [],
			"source": [
				"premier_mot = phrase[0]\n",
				"print(premier_mot)"
			]
		},
		{
			"cell_type": "markdown",
			"metadata": {},
			"source": [
				"Python imprime seulement la première lettre de notre phrase. (Pensez-y si vous ne comprenez pas pourquoi.) Nous pouvons transformer notre phrase en une `list` de mots (représentés par des chaînes) en utilisant la méthode `split()` comme suit:"
			]
		},
		{
			"cell_type": "code",
			"execution_count": null,
			"metadata": {
				"scrolled": true
			},
			"outputs": [],
			"source": [
				"mots = phrase.split()\n",
				"print(mots)"
			]
		},
		{
			"cell_type": "markdown",
			"metadata": {},
			"source": [
				"En utilisant la fonction `split` sur notre phrase, Python scinde la phrase sur les espaces et retourne une liste de mots. À bien des égards, une liste fonctionne comme une chaîne. Nous pouvons accéder à tous ses composants en utilisant des index et nous pouvons utiliser des index de tranches pour accéder à certaines parties de la liste. Essayons!"
			]
		},
		{
			"cell_type": "markdown",
			"metadata": {},
			"source": [
				"--------"
			]
		},
		{
			"cell_type": "markdown",
			"metadata": {},
			"source": [
				"#### Exercice"
			]
		},
		{
			"cell_type": "markdown",
			"metadata": {},
			"source": [
				"Écrivez un petit programme qui définit une variable `premier_mot` et attribuez-lui le premier mot de notre liste `mots`. Jouez un peu avec les index pour voir si vous comprenez vraiment comment cela fonctionne."
			]
		},
		{
			"cell_type": "code",
			"execution_count": null,
			"metadata": {
				"scrolled": true
			},
			"outputs": [],
			"source": [
				"# Copier votre code ici"
			]
		},
		{
			"cell_type": "markdown",
			"metadata": {},
			"source": [
				"---------------"
			]
		},
		{
			"cell_type": "markdown",
			"metadata": {},
			"source": [
				"Une liste est une sorte de container dans lequel on peut enregistrer tout type d'information. On accède aux valeurs des listes  en utilisant les index et tranches. On peut aussi ajouter de nouveaux objets. Pour cela, on utilise la méthode `append`. Voyons comment cela marche. Disons que l'on veut garder nos bonnes lectures dans une liste. On commence avec une liste vide et on ajoute peu à peu nos livres:"
			]
		},
		{
			"cell_type": "code",
			"execution_count": null,
			"metadata": {
				"scrolled": true
			},
			"outputs": [],
			"source": [
				"# Commencer avec un liste vide\n",
				"bonnes_lectures = []\n",
				"# Ajouter les livres\n",
				"bonnes_lectures.append(\"Twilight\")\n",
				"bonnes_lectures.append(\"Pour en finir avec le jugement de Dieu\")\n",
				"print(bonnes_lectures)"
			]
		},
		{
			"cell_type": "markdown",
			"metadata": {},
			"source": [
				"Puis, si jamais on n'aime plus un de ces livres, ou que l'on s'est trompé, on peut le changer :"
			]
		},
		{
			"cell_type": "code",
			"execution_count": null,
			"metadata": {
				"scrolled": true
			},
			"outputs": [],
			"source": [
				"bonnes_lectures[0] = \"Dracula\"  # Rien ne vaut l'original. Et puis lui ne brille pas.\n",
				"print(bonnes_lectures)"
			]
		},
		{
			"cell_type": "markdown",
			"metadata": {},
			"source": [
				"--------"
			]
		},
		{
			"cell_type": "markdown",
			"metadata": {},
			"source": [
				"#### Exercice"
			]
		},
		{
			"cell_type": "markdown",
			"metadata": {},
			"source": [
				"Voilà un autre petit exercice. Changez le nom de votre deuxième bonne lecture:"
			]
		},
		{
			"cell_type": "code",
			"execution_count": null,
			"metadata": {
				"scrolled": true
			},
			"outputs": [],
			"source": [
				"# Votre code ici"
			]
		},
		{
			"cell_type": "markdown",
			"metadata": {},
			"source": [
				"-----------"
			]
		},
		{
			"cell_type": "markdown",
			"metadata": {},
			"source": [
				"Nous venons de changer un élément dans une liste. Notez que si vous faites la même chose pour une chaîne, vous obtiendrez une erreur:"
			]
		},
		{
			"cell_type": "code",
			"execution_count": null,
			"metadata": {
				"scrolled": true
			},
			"outputs": [],
			"source": [
				"python = \"Pythen\"\n",
				"python[4] = \"o\""
			]
		},
		{
			"cell_type": "markdown",
			"metadata": {},
			"source": [
				"C'est parce que les `strings` (chaînes) et d'autres types d'objets sont *immuables* (`immutable` dans la langue de Shakespeare). Cela veut dire qu'elles ne peuvent pas être changées, au contraire des `list` qui sont des `mutables`. Voyons d'autres moyens de modifier ces listes :"
			]
		},
		{
			"cell_type": "markdown",
			"metadata": {},
			"source": [
				"#### remove()"
			]
		},
		{
			"cell_type": "markdown",
			"metadata": {},
			"source": [
				"Supposons que notre collection de bonnes lectures s'est beaucoup élargie et nous aimerions supprimer certains des livres de la liste. Python fournit la méthode `remove()` qui agit sur une liste et prend comme argument les éléments que nous voulons supprimer."
			]
		},
		{
			"cell_type": "code",
			"execution_count": null,
			"metadata": {
				"scrolled": true
			},
			"outputs": [],
			"source": [
				"bonnes_lectures = [\n",
				"    \"Orgueil et Préjugés \",\n",
				"    \"Le Père Goriot \",\n",
				"    \"Les Hauts de Hurlevent \",\n",
				"    \"L'Étranger \",\n",
				"    \"Les poèmes de Paul Celan\",\n",
				"    \"Voyage au bout de la nuit\",\n",
				"    \"Fifi Brindacier\"\n",
				"]\n",
				"\n",
				"bonnes_lectures.remove(\"Fifi Brindacier\")\n",
				"\n",
				"print(bonnes_lectures)"
			]
		},
		{
			"cell_type": "markdown",
			"metadata": {},
			"source": [
				"Si nous essayons de supprimer un livre qui n'est pas dans notre collection, Python déclenche une erreur :"
			]
		},
		{
			"cell_type": "code",
			"execution_count": null,
			"metadata": {
				"scrolled": true
			},
			"outputs": [],
			"source": [
				"bonnes_lectures.remove(\"Les Mains Sales\")"
			]
		},
		{
			"cell_type": "markdown",
			"metadata": {},
			"source": [
				"--------"
			]
		},
		{
			"cell_type": "markdown",
			"metadata": {},
			"source": [
				"#### Exercice"
			]
		},
		{
			"cell_type": "markdown",
			"metadata": {},
			"source": [
				"Dans une variable `bonnes_lectures` initialisée comme une liste vide, ajoutez au moins trois de vos livres favoris (si vous n'arrivez pas à vous décider, prenez en ici https://fr.wikipedia.org/wiki/Les_cent_livres_du_si%C3%A8cle ) et affichez les deux derniers que vous avez ajoutés:"
			]
		},
		{
			"cell_type": "code",
			"execution_count": null,
			"metadata": {
				"scrolled": true
			},
			"outputs": [],
			"source": [
				"# Votre code ici"
			]
		},
		{
			"cell_type": "markdown",
			"metadata": {},
			"source": [
				"------"
			]
		},
		{
			"cell_type": "markdown",
			"metadata": {},
			"source": [
				"Tout comme avec les chaînes, on peut concaténer des listes"
			]
		},
		{
			"cell_type": "code",
			"execution_count": null,
			"metadata": {
				"scrolled": true
			},
			"outputs": [],
			"source": [
				"# D'abord on initie deux listes\n",
				"bonnes_lectures = [\n",
				"    \"Orgueil et Préjugés \",\n",
				"    \"Le Père Goriot \",\n",
				"    \"Les Hauts de Hurlevent \",\n",
				"    \"L'Étranger \",\n",
				"    \"Les poèmes de Paul Celan\",\n",
				"    \"Voyage au bout de la nuit\",\n",
				"    \"Fifi Brindacier\"\n",
				"]\n",
				"\n",
				"lectures_regrettables = [\"50 nuances de Gris\", \"Twilight\"]\n",
				"\n",
				"lectures = bonnes_lectures + lectures_regrettables\n",
				"print(lectures)"
			]
		},
		{
			"cell_type": "markdown",
			"metadata": {},
			"source": [
				"#### sort()"
			]
		},
		{
			"cell_type": "markdown",
			"metadata": {},
			"source": [
				"C'est toujours sympa de pouvoir trier ses affaires, encore plus nos étagères. On peut utiliser la méthode `sort()`."
			]
		},
		{
			"cell_type": "code",
			"execution_count": null,
			"metadata": {
				"scrolled": true
			},
			"outputs": [],
			"source": [
				"bonnes_lectures.sort()\n",
				"print(bonnes_lectures)"
			]
		},
		{
			"cell_type": "markdown",
			"metadata": {},
			"source": [
				"#### Listes Imbriquées (`nested list`)"
			]
		},
		{
			"cell_type": "markdown",
			"metadata": {},
			"source": [
				"Jusque là, on a pu s'amuser avec des listes de chaînes. Cependant, une liste peut contenir ce qu'elle veut, comment des entiers (`integers`) et des listes. Pouvez-vous expliquer, ligne par ligne, ce qui se passe ici :"
			]
		},
		{
			"cell_type": "code",
			"execution_count": null,
			"metadata": {
				"scrolled": true
			},
			"outputs": [],
			"source": [
				"liste_imbriquee = [[1, 2, 3, 4], [5, 6, 7, 8]]\n",
				"print(liste_imbriquee[0])\n",
				"print(liste_imbriquee[0][0])\n",
				"print(liste_imbriquee[1][1])\n",
				"print(liste_imbriquee[-1][-1])"
			]
		},
		{
			"cell_type": "markdown",
			"metadata": {},
			"source": [
				"Nous pouvons utiliser ça pour améliorer notre liste de bonnes lectures en ajoutant un score pour chaque livre que l'on a. Une entrée dans notre collection se composera d'un score dans l'intervalle de 1 et 10 et du titre de notre livre. Le premier élément est le titre; le deuxième le score: `[titre, score]`. Nous initialisons une liste vide:"
			]
		},
		{
			"cell_type": "code",
			"execution_count": null,
			"metadata": {
				"scrolled": true
			},
			"outputs": [],
			"source": [
				"bonnes_lectures = []"
			]
		},
		{
			"cell_type": "markdown",
			"metadata": {},
			"source": [
				"Et on y ajoute deux livres:"
			]
		},
		{
			"cell_type": "code",
			"execution_count": null,
			"metadata": {
				"scrolled": true
			},
			"outputs": [],
			"source": [
				"bonnes_lectures.append([\"Les poèmes de Paul Celan\", 8])\n",
				"bonnes_lectures.append([\"Voyage au bout de la nuit\", 9])\n",
				"print(bonnes_lectures)"
			]
		},
		{
			"cell_type": "markdown",
			"metadata": {},
			"source": [
				"---------"
			]
		},
		{
			"cell_type": "markdown",
			"metadata": {},
			"source": [
				"#### Exercice"
			]
		},
		{
			"cell_type": "markdown",
			"metadata": {},
			"source": [
				"Mettez à jour `bonnes_lectures` avec quelques livres de votre choix et donnez-leur un score. Pouvez-vous afficher le score du premier livre de la liste ? Et le titre de l'avant-dernier ?"
			]
		},
		{
			"cell_type": "code",
			"execution_count": null,
			"metadata": {
				"scrolled": true
			},
			"outputs": [],
			"source": [
				"# Votre code ici"
			]
		},
		{
			"cell_type": "markdown",
			"metadata": {},
			"source": [
				"-----------"
			]
		},
		{
			"cell_type": "markdown",
			"metadata": {},
			"source": [
				"##### Ce que nous avons appris"
			]
		},
		{
			"cell_type": "markdown",
			"metadata": {},
			"source": [
				"Pour finir cette section, voici un récapitulatif des concepts appris. Lisez la liste et posez des questions si certaines choses ne sont pas claires.\n",
				"\n",
				"-  liste\n",
				"-  *mutable* vs. *immutable*\n",
				"-  `.split()`\n",
				"-  `.append()`\n",
				"-  listes imbriquées\n",
				"-  `.remove()`\n",
				"-  `.sort()`"
			]
		},
		{
			"cell_type": "markdown",
			"metadata": {},
			"source": [
				"-------------"
			]
		}
	],
	"metadata": {
		"kernelspec": {
			"display_name": "Python 3 (ipykernel)",
			"language": "python",
			"name": "python3"
		},
		"language_info": {
			"codemirror_mode": {
				"name": "ipython",
				"version": 3
			},
			"file_extension": ".py",
			"mimetype": "text/x-python",
			"name": "python",
			"nbconvert_exporter": "python",
			"pygments_lexer": "ipython3",
			"version": "3.8.10"
		},
		"toc": {
			"base_numbering": 1,
			"nav_menu": {},
			"number_sections": true,
			"sideBar": true,
			"skip_h1_title": false,
			"title_cell": "Table of Contents",
			"title_sidebar": "Contents",
			"toc_cell": false,
			"toc_position": {},
			"toc_section_display": true,
			"toc_window_display": true
		}
	},
	"nbformat": 4,
	"nbformat_minor": 1
}