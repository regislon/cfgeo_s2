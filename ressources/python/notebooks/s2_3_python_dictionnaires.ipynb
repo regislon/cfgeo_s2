{
 "cells": [
  {
   "cell_type": "markdown",
   "metadata": {},
   "source": [
    "## Dictionnaires"
   ]
  },
  {
   "cell_type": "markdown",
   "metadata": {},
   "source": [
    "Notre petite collection de bonnes lectures commence à ressembler à quelque chose et nous pouvons désormais la manipuler de différentes manières. Maintenant, imaginez que notre liste soit très grande et nous aimerions rechercher le score que nous avons donné à un livre en particulier. Comment allons-nous trouver ce livre?  Avec une liste, cela sera difficile. Mais Python fournit une autre structure de données plus appropriée, appelée `dictionary`. Un `dictionnaire` est similaire aux dictionnaires que vous avez à la maison. Il se compose d'entrées ou de clés (`keys`) qui contiennent une valeur. Définissons-en un:"
   ]
  },
  {
   "cell_type": "code",
   "execution_count": 1,
   "metadata": {
    "scrolled": true
   },
   "outputs": [],
   "source": [
    "dictionnaire = {\"livre\": \"Assemblage de feuilles imprimées et réunies en un volume, broché ou relié\",\n",
    "           \"épée\": \"Arme de main faite d'une lame d'acier pointue fixée à une poignée munie d'une garde.\",\n",
    "           \"archive\": \"Pièce, document d'archives.\"}"
   ]
  },
  {
   "cell_type": "markdown",
   "metadata": {},
   "source": [
    "Regardez de près la nouvelle syntaxe. Remarquez les accolades et les deux-points. Les clés sont situées sur le côté gauche des deux points; les valeurs (`values`) sur le côté droit. Pour rechercher la valeur d'une clé donnée, nous 'indexons' le dictionnaire en utilisant cette clé:"
   ]
  },
  {
   "cell_type": "code",
   "execution_count": 2,
   "metadata": {
    "scrolled": true
   },
   "outputs": [
    {
     "name": "stdout",
     "output_type": "stream",
     "text": [
      "Arme de main faite d'une lame d'acier pointue fixée à une poignée munie d'une garde.\n"
     ]
    }
   ],
   "source": [
    "description = dictionnaire[\"épée\"]\n",
    "print(description)"
   ]
  },
  {
   "cell_type": "markdown",
   "metadata": {},
   "source": [
    "On parle d'*indexer* car nous utilisons la même syntaxe avec des crochets  que celle de l'indexation de listes ou de chaînes. La différence est que nous n'utilisons pas de numéro de position pour indexer un dictionnaire, mais une clé. Comme les listes, les dictionnaires sont *mutables*, ce qui signifie que nous pouvons ajouter et supprimer des entrées. Définissons un dictionnaire vide et y ajoutons quelques livres. Les titres seront nos clés et les scores leurs valeurs. Regardez la syntaxe pour ajouter une nouvelle entrée:"
   ]
  },
  {
   "cell_type": "code",
   "execution_count": 3,
   "metadata": {
    "scrolled": true
   },
   "outputs": [
    {
     "name": "stdout",
     "output_type": "stream",
     "text": [
      "{'Les poèmes de Paul Celan': 8, 'Voyage au bout de la nuit': 9}\n"
     ]
    }
   ],
   "source": [
    "bonnes_lectures = {}\n",
    "bonnes_lectures[\"Les poèmes de Paul Celan\"] = 8\n",
    "bonnes_lectures[\"Voyage au bout de la nuit\"] = 9\n",
    "print(bonnes_lectures)"
   ]
  },
  {
   "cell_type": "markdown",
   "metadata": {},
   "source": [
    "D'une certaine manière, c'est similaire à ce que nous faisions pour la `list` avant. Avant, nous indexions avec des nombres qui correspondaient à un certain livre. Là, nous utilisons directement le titre du livre. Pouvez-vous imaginer à quel point cela sera utile ?"
   ]
  },
  {
   "cell_type": "markdown",
   "metadata": {},
   "source": [
    "--------"
   ]
  },
  {
   "cell_type": "markdown",
   "metadata": {},
   "source": [
    "#### Exercice"
   ]
  },
  {
   "cell_type": "markdown",
   "metadata": {},
   "source": [
    "Mettez à jour la nouvelle structure de données de bonnes lectures avec vos propres livres. Essayez d'afficher le score que vous avez donné pour l'un des livres."
   ]
  },
  {
   "cell_type": "code",
   "execution_count": 4,
   "metadata": {
    "scrolled": true
   },
   "outputs": [],
   "source": [
    "# Votre code ici"
   ]
  },
  {
   "cell_type": "markdown",
   "metadata": {},
   "source": [
    "----------"
   ]
  },
  {
   "cell_type": "markdown",
   "metadata": {},
   "source": [
    "#### keys(), values()"
   ]
  },
  {
   "cell_type": "markdown",
   "metadata": {},
   "source": [
    "Comme indiqué précédemment, notre dictionnaire possède un ensemble de clés. Pour retrouver la liste des index de ces livres dans notre collection, il suffit juste de demander celle-ci à la variable:"
   ]
  },
  {
   "cell_type": "code",
   "execution_count": 5,
   "metadata": {
    "scrolled": true
   },
   "outputs": [
    {
     "data": {
      "text/plain": [
       "dict_keys(['Les poèmes de Paul Celan', 'Voyage au bout de la nuit'])"
      ]
     },
     "execution_count": 5,
     "metadata": {},
     "output_type": "execute_result"
    }
   ],
   "source": [
    "bonnes_lectures.keys()"
   ]
  },
  {
   "cell_type": "markdown",
   "metadata": {},
   "source": [
    "De la même manière, on peut demander les valeurs:"
   ]
  },
  {
   "cell_type": "code",
   "execution_count": 6,
   "metadata": {
    "scrolled": true
   },
   "outputs": [
    {
     "data": {
      "text/plain": [
       "dict_values([8, 9])"
      ]
     },
     "execution_count": 6,
     "metadata": {},
     "output_type": "execute_result"
    }
   ],
   "source": [
    "bonnes_lectures.values()"
   ]
  },
  {
   "cell_type": "markdown",
   "metadata": {},
   "source": [
    "Ou on peut demander les paires (clef, valeur) avec la méthode `items`:"
   ]
  },
  {
   "cell_type": "code",
   "execution_count": 7,
   "metadata": {
    "scrolled": true
   },
   "outputs": [
    {
     "name": "stdout",
     "output_type": "stream",
     "text": [
      "dict_items([('Les poèmes de Paul Celan', 8), ('Voyage au bout de la nuit', 9)])\n",
      "{'Les poèmes de Paul Celan': 8, 'Voyage au bout de la nuit': 9}\n"
     ]
    }
   ],
   "source": [
    "print(bonnes_lectures.items())\n",
    "print(bonnes_lectures)"
   ]
  },
  {
   "cell_type": "markdown",
   "metadata": {},
   "source": [
    "### Détails : Générateurs et tuples"
   ]
  },
  {
   "cell_type": "markdown",
   "metadata": {},
   "source": [
    "#### Générateurs"
   ]
  },
  {
   "cell_type": "markdown",
   "metadata": {},
   "source": [
    "Que se passe-t-il quand vous tentez d'exécuter le code suivant ? **Avant de l'exécuter, essayez d'expliquer ce que ce code doit faire**."
   ]
  },
  {
   "cell_type": "code",
   "execution_count": 8,
   "metadata": {},
   "outputs": [
    {
     "ename": "TypeError",
     "evalue": "'dict_keys' object is not subscriptable",
     "output_type": "error",
     "traceback": [
      "\u001b[1;31m---------------------------------------------------------------------------\u001b[0m",
      "\u001b[1;31mTypeError\u001b[0m                                 Traceback (most recent call last)",
      "\u001b[1;32m~\\AppData\\Local\\Temp/ipykernel_1872/3193871011.py\u001b[0m in \u001b[0;36m<module>\u001b[1;34m\u001b[0m\n\u001b[1;32m----> 1\u001b[1;33m \u001b[0mbonnes_lectures\u001b[0m\u001b[1;33m.\u001b[0m\u001b[0mkeys\u001b[0m\u001b[1;33m(\u001b[0m\u001b[1;33m)\u001b[0m\u001b[1;33m[\u001b[0m\u001b[1;36m0\u001b[0m\u001b[1;33m]\u001b[0m\u001b[1;33m\u001b[0m\u001b[1;33m\u001b[0m\u001b[0m\n\u001b[0m",
      "\u001b[1;31mTypeError\u001b[0m: 'dict_keys' object is not subscriptable"
     ]
    }
   ],
   "source": [
    "bonnes_lectures.keys()[0]"
   ]
  },
  {
   "cell_type": "markdown",
   "metadata": {},
   "source": [
    "Les méthodes `.keys()`, `⋅values()` et `.items()` ne produisent en fait pas des listes, mais ce que l'on appelle en python des générateurs (`generator`). Les générateurs ont cela de particulier qu'ils sont des sortes de listes qui n'acceptent pas l'indexation, puisqu'elles n'ont pas été encore calculées. Cela permet dans certains cas d'éviter de charger trop la mémoire d'un ordinateur.\n",
    "\n",
    "Pour transformer un générateur en liste, on peut la retyper (ou `cast`) :"
   ]
  },
  {
   "cell_type": "code",
   "execution_count": null,
   "metadata": {},
   "outputs": [],
   "source": [
    "bonnes_lectures_liste = list(bonnes_lectures.keys())\n",
    "print(bonnes_lectures_liste[0])"
   ]
  },
  {
   "cell_type": "markdown",
   "metadata": {},
   "source": [
    "En dehors de cette légère différence quant à l'indexation, les `generators` de clés et de valeurs ont les mêmes propriétés globales que les listes :"
   ]
  },
  {
   "cell_type": "code",
   "execution_count": null,
   "metadata": {},
   "outputs": [],
   "source": [
    "print(len(bonnes_lectures.keys()))\n",
    "print(len(bonnes_lectures_liste))"
   ]
  },
  {
   "cell_type": "markdown",
   "metadata": {},
   "source": [
    "#### Les tuples"
   ]
  },
  {
   "cell_type": "markdown",
   "metadata": {},
   "source": [
    "Avez-vous remarqué que le résultat de `print(bonnes_lectures.items())` renvoie une liste d'éléments eux-mêmes groupés entre parenthèses ? Essayons de copier le résultat :"
   ]
  },
  {
   "cell_type": "code",
   "execution_count": null,
   "metadata": {},
   "outputs": [],
   "source": [
    "bonne_lecture_tuple = [\n",
    "    ('Les poèmes de Paul Celan', 8),\n",
    "    ('Voyage au bout de la nuit', 9)\n",
    "]"
   ]
  },
  {
   "cell_type": "markdown",
   "metadata": {},
   "source": [
    "Et maintenant, essayez de comprendre le code suivant et lancez-le :"
   ]
  },
  {
   "cell_type": "code",
   "execution_count": null,
   "metadata": {},
   "outputs": [],
   "source": [
    "print(bonne_lecture_tuple[0][0])\n",
    "print(len(bonne_lecture_tuple))\n",
    "print(bonne_lecture_tuple[1][0])\n",
    "print(bonne_lecture_tuple[1][1])"
   ]
  },
  {
   "cell_type": "markdown",
   "metadata": {},
   "source": [
    "Puis faites de même avec ce qui suit :"
   ]
  },
  {
   "cell_type": "code",
   "execution_count": null,
   "metadata": {},
   "outputs": [],
   "source": [
    "bonne_lecture_tuple[0][0] = 7"
   ]
  },
  {
   "cell_type": "code",
   "execution_count": null,
   "metadata": {},
   "outputs": [],
   "source": [
    "bonne_lecture_tuple[0].append(5)"
   ]
  },
  {
   "cell_type": "markdown",
   "metadata": {},
   "source": [
    "Comprenez-vous ce qui se passe ?\n",
    "\n",
    "En fait, les `tuples` sont des listes simplifiées et *immutables*. Elles sont indexables, mais, comme les chaînes, ne supportent pas les changements. Cela peut-être pratique pour partager des données qui ne doivent pas bouger, mais où l'indexation est pratique. Par ailleurs, les tuples permettent des assignations pratiques telles que le code qui suit: "
   ]
  },
  {
   "cell_type": "code",
   "execution_count": null,
   "metadata": {},
   "outputs": [],
   "source": [
    "titre, note = bonne_lecture_tuple[0]\n",
    "print(titre)\n",
    "print(note)"
   ]
  },
  {
   "cell_type": "markdown",
   "metadata": {},
   "source": [
    "---------"
   ]
  },
  {
   "cell_type": "markdown",
   "metadata": {},
   "source": [
    "##### Ce que nous avons appris"
   ]
  },
  {
   "cell_type": "markdown",
   "metadata": {},
   "source": [
    "Pour finir cette section, voici un récapitulatif des concepts appris. Lisez la liste et posez des questions si certaines choses ne sont pas claires.\n",
    "\n",
    "-  dictionnaires (`dictionary`)\n",
    "-  indexation et accès aux valeurs des dictionnaires\n",
    "-  ajouter des objets aux dictionnaires\n",
    "-  `.keys()`\n",
    "-  `.values()`\n",
    "- les générateurs (`generator`)\n",
    "- les tuples (`tuple`)"
   ]
  },
  {
   "cell_type": "markdown",
   "metadata": {},
   "source": [
    "--------"
   ]
  }
 ],
 "metadata": {
  "kernelspec": {
   "display_name": "Python 3 (ipykernel)",
   "language": "python",
   "name": "python3"
  },
  "language_info": {
   "codemirror_mode": {
    "name": "ipython",
    "version": 3
   },
   "file_extension": ".py",
   "mimetype": "text/x-python",
   "name": "python",
   "nbconvert_exporter": "python",
   "pygments_lexer": "ipython3",
   "version": "3.8.10"
  },
  "toc": {
   "base_numbering": 1,
   "nav_menu": {},
   "number_sections": true,
   "sideBar": true,
   "skip_h1_title": false,
   "title_cell": "Table of Contents",
   "title_sidebar": "Contents",
   "toc_cell": false,
   "toc_position": {},
   "toc_section_display": true,
   "toc_window_display": true
  }
 },
 "nbformat": 4,
 "nbformat_minor": 1
}
