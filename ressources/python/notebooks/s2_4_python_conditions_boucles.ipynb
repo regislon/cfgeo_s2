{
 "cells": [
  {
   "cell_type": "markdown",
   "metadata": {},
   "source": [
    "## Conditions"
   ]
  },
  {
   "cell_type": "markdown",
   "metadata": {},
   "source": [
    "### Les condition simples"
   ]
  },
  {
   "cell_type": "markdown",
   "metadata": {},
   "source": [
    "Une grande partie de la programmation a à voir avec l'exécution d'un certain morceau de code si une condition particulière est vérifiée. Nous avons déjà vu deux conditions au tout début du chapitre (`x == x`, `x < 6`). Ici, nous donnons un bref aperçu. Pouvez-vous comprendre ce que toutes les conditions font?"
   ]
  },
  {
   "cell_type": "code",
   "execution_count": 1,
   "metadata": {
    "scrolled": true
   },
   "outputs": [
    {
     "name": "stdout",
     "output_type": "stream",
     "text": [
      "2 < 5 est True\n",
      "3 > 7 est False\n",
      "3 == 4 est False\n",
      "école == devoirs est False\n",
      "Python != perl est True\n"
     ]
    }
   ],
   "source": [
    "print(\"2 < 5 est\", 2 < 5)\n",
    "print(\"3 > 7 est\", 3 >= 7)\n",
    "print(\"3 == 4 est\", 3 == 4)\n",
    "print(\"école == devoirs est\", \"école\" == \"devoirs\")\n",
    "print(\"Python != perl est\", \"Python\" != \"perl\")"
   ]
  },
  {
   "cell_type": "markdown",
   "metadata": {},
   "source": [
    "### Si, ou si, et sinon (if, elif and else)"
   ]
  },
  {
   "cell_type": "markdown",
   "metadata": {},
   "source": [
    "Le dictionnaire est une meilleure structure de données pour notre collection de bonnes lectures. Cependant, même avec les dictionnaires, nous pourrions oublier les livres que nous avons ajoutés à la collection. Que se passe-t-il si nous essayons d'obtenir le score d'un livre qui n'est pas dans notre collection (en espérant que cela n'arrive jamais !)?"
   ]
  },
  {
   "cell_type": "code",
   "execution_count": 1,
   "metadata": {
    "scrolled": true
   },
   "outputs": [
    {
     "ename": "KeyError",
     "evalue": "'Le Retour du Roi'",
     "output_type": "error",
     "traceback": [
      "\u001b[1;31m---------------------------------------------------------------------------\u001b[0m",
      "\u001b[1;31mKeyError\u001b[0m                                  Traceback (most recent call last)",
      "\u001b[1;32m~\\AppData\\Local\\Temp/ipykernel_24096/4241109138.py\u001b[0m in \u001b[0;36m<module>\u001b[1;34m\u001b[0m\n\u001b[0;32m      2\u001b[0m \u001b[0mbonnes_lectures\u001b[0m\u001b[1;33m[\u001b[0m\u001b[1;34m\"Les poèmes de Paul Celan\"\u001b[0m\u001b[1;33m]\u001b[0m \u001b[1;33m=\u001b[0m \u001b[1;36m8\u001b[0m\u001b[1;33m\u001b[0m\u001b[1;33m\u001b[0m\u001b[0m\n\u001b[0;32m      3\u001b[0m \u001b[0mbonnes_lectures\u001b[0m\u001b[1;33m[\u001b[0m\u001b[1;34m\"Voyage au bout de la nuit\"\u001b[0m\u001b[1;33m]\u001b[0m \u001b[1;33m=\u001b[0m \u001b[1;36m9\u001b[0m\u001b[1;33m\u001b[0m\u001b[1;33m\u001b[0m\u001b[0m\n\u001b[1;32m----> 4\u001b[1;33m \u001b[0mbonnes_lectures\u001b[0m\u001b[1;33m[\u001b[0m\u001b[1;34m\"Le Retour du Roi\"\u001b[0m\u001b[1;33m]\u001b[0m\u001b[1;33m\u001b[0m\u001b[1;33m\u001b[0m\u001b[0m\n\u001b[0m",
      "\u001b[1;31mKeyError\u001b[0m: 'Le Retour du Roi'"
     ]
    }
   ],
   "source": [
    "bonnes_lectures = {}\n",
    "bonnes_lectures[\"Les poèmes de Paul Celan\"] = 8\n",
    "bonnes_lectures[\"Voyage au bout de la nuit\"] = 9\n",
    "bonnes_lectures[\"Le Retour du Roi\"]"
   ]
  },
  {
   "cell_type": "markdown",
   "metadata": {},
   "source": [
    "Nous obtenons une erreur. Une `KeyError`, qui signifie simplement \"*la clé que vous m'avez demandé de rechercher n'est pas dans le dictionnaire*\". Nous en apprendrons beaucoup plus sur la gestion des erreurs plus tard, mais pour l'instant nous voudrions empêcher notre programme de l'émettre. Écrivons un petit programme qui imprime \"X est dans la collection\" si un livre particulier est dans la collection et \"X n'est pas dans la collection\" si ce n'est pas le cas."
   ]
  },
  {
   "cell_type": "code",
   "execution_count": null,
   "metadata": {
    "scrolled": true
   },
   "outputs": [],
   "source": [
    "livre = \"Le Retour du Roi\"\n",
    "if livre in bonnes_lectures:\n",
    "    print(livre + \" est dans la collection\")\n",
    "    print(\"On peut bien sûr écrire plus de code ici.\")\n",
    "else:\n",
    "    print(livre + \" n'est pas dans la collection\")\n",
    "    print(\"On peut bien sûr écrire plus de code ici aussi.\")"
   ]
  },
  {
   "cell_type": "markdown",
   "metadata": {},
   "source": [
    "Beaucoup de syntaxe nouvelle d'un coup. Allons-y étape par étape.\n",
    "\n",
    "D'abord, on demande si la valeur assignée à `livre` est dans notre collection. La partie après `if` sera évaluée en `True` (Vrai) ou `False` (Faux). Vérifions :"
   ]
  },
  {
   "cell_type": "code",
   "execution_count": null,
   "metadata": {
    "scrolled": true
   },
   "outputs": [],
   "source": [
    "livre in bonnes_lectures"
   ]
  },
  {
   "cell_type": "markdown",
   "metadata": {},
   "source": [
    "Parce que le livre n'est pas dans notre collection, Python retourne `False`. Faisons la même chose avec un livre que l'on sait être dans notre collection :"
   ]
  },
  {
   "cell_type": "code",
   "execution_count": null,
   "metadata": {
    "scrolled": true
   },
   "outputs": [],
   "source": [
    "\"Voyage au bout de la nuit\" in bonnes_lectures"
   ]
  },
  {
   "cell_type": "markdown",
   "metadata": {},
   "source": [
    "Bien sûr qu'il est dans la collection. Retournons à notre déclaration `if` (`statement`). Si l'expression après `if` vaut `True`, notre programme passera à la ligne suivante et affichera `book + \"est dans la collection\"`. Essayons cela aussi:"
   ]
  },
  {
   "cell_type": "code",
   "execution_count": null,
   "metadata": {
    "scrolled": true
   },
   "outputs": [],
   "source": [
    "if \"Voyage au bout de la nuit\" in bonnes_lectures:\n",
    "    print(\"On l'a!\")"
   ]
  },
  {
   "cell_type": "code",
   "execution_count": null,
   "metadata": {
    "scrolled": true
   },
   "outputs": [],
   "source": [
    "if livre in bonnes_lectures:\n",
    "    print(\"On l'a!\")"
   ]
  },
  {
   "cell_type": "markdown",
   "metadata": {},
   "source": [
    "Notez que l'instruction d'impression dans le dernier bloc de code n'est pas exécutée. C'est parce que la valeur que nous avons assignée à `livre` n'est pas dans notre collection et donc la partie après `if` n'a pas valu `True`. Dans notre petit programme ci-dessus, nous avons utilisé une autre déclaration à côté de `if`, à savoir `else`. Il ne devrait pas être trop difficile de comprendre ce qui se passe ici. La partie après `else` sera exécutée si l'instruction `if` est évaluée à `False`. En français: si le livre n'est pas dans la collection, alors afficher que ce n'est pas le cas."
   ]
  },
  {
   "cell_type": "markdown",
   "metadata": {},
   "source": [
    "#### Indentation!"
   ]
  },
  {
   "cell_type": "markdown",
   "metadata": {},
   "source": [
    "Avant de continuer, nous devons d'abord vous expliquer que la disposition de notre code n'est pas ici juste pour faire jolie. Contrairement à d'autres langages, Python n'utilise pas d'accolades pour marquer le début et la fin des blocs. Le seul délimiteur est un deux-points (`:`) et l'indentation du code. Cette indentation doit être utilisée de manière cohérente dans tout votre code. La convention consiste à utiliser 4 espaces comme indentation (certains environnements de développement transforment automatiquement une tabulation en 4 espaces). Cela signifie qu'après avoir utilisé un deux-points (comme dans notre instruction `if`), la ligne suivante devrait être indentée de quatre espaces de plus que la ligne précédente.\n",
    "\n",
    "On se retrouve parfois dans une situation où plusieurs conditions sont excluantes, pas seulement un `if` et un `else` mais plusieurs autres conditions entre les deux. Pour cela, Python fournit l'instruction `elif`. Son utilisation est similaire à `if` et` else`. Notez cependant que vous ne pouvez utiliser `elif` qu'après une instruction `if`! Au-dessus nous avons demandé si un livre était dans la collection. Nous pouvons faire la même chose pour des parties de chaînes ou pour des éléments d'une liste. Par exemple nous pourrions tester si la lettre *a* est dans le mot *banane*:\n"
   ]
  },
  {
   "cell_type": "code",
   "execution_count": null,
   "metadata": {},
   "outputs": [],
   "source": [
    "\"a\" in \"banane\""
   ]
  },
  {
   "cell_type": "markdown",
   "metadata": {},
   "source": [
    "Bien sûr, la suite vaudra `False`:"
   ]
  },
  {
   "cell_type": "code",
   "execution_count": null,
   "metadata": {
    "scrolled": true
   },
   "outputs": [],
   "source": [
    "\"z\" in \"banane\""
   ]
  },
  {
   "cell_type": "markdown",
   "metadata": {},
   "source": [
    "Essayons une combinaison `if-elif-else` :"
   ]
  },
  {
   "cell_type": "code",
   "execution_count": null,
   "metadata": {
    "scrolled": true
   },
   "outputs": [],
   "source": [
    "mot = \"complémentaires\"\n",
    "if \"a\" in mot:\n",
    "    print(mot + \" contient la lettre a et s\")\n",
    "elif \"s\" in mot:\n",
    "    print(mot + \" containt la lettre s\")\n",
    "else:\n",
    "    print(\"Mais où avez-vous trouvé ce mot !?\")"
   ]
  },
  {
   "cell_type": "markdown",
   "metadata": {},
   "source": [
    "--------"
   ]
  },
  {
   "cell_type": "markdown",
   "metadata": {},
   "source": [
    "#### Exercice"
   ]
  },
  {
   "cell_type": "markdown",
   "metadata": {},
   "source": [
    "Exerçons un peu nos nouvelles compétences. Écrivez un petit programme qui définit une variable `poids`. Si le poids est plus grand que 50 kg, affichez \"Il y a des frais de 25 € pour les colis lourds.\" Si ce n'est pas le cas, affichez: \"Merci pour votre commande. Les frais de port sont gratuits.\" Changez la valeur du poids pour voir les deux résultats. (Astuce: utilisez les opérateurs `<` ou `>`)"
   ]
  },
  {
   "cell_type": "code",
   "execution_count": null,
   "metadata": {
    "scrolled": true
   },
   "outputs": [],
   "source": [
    "# Votre code ici"
   ]
  },
  {
   "cell_type": "markdown",
   "metadata": {},
   "source": [
    "Maintenant, nous avons deux autres situations :\n",
    "- Afficher \"Il y a des frais de 50€ pour des colis très lourds\" pour les objets de plus de 100 kg\n",
    "- Afficher \"Les frais sont de 10€\" pour les objets de plus de 5kgs"
   ]
  },
  {
   "cell_type": "markdown",
   "metadata": {},
   "source": [
    "-------"
   ]
  },
  {
   "cell_type": "markdown",
   "metadata": {},
   "source": [
    "### Et, ou, non (`and, or, not`)"
   ]
  },
  {
   "cell_type": "markdown",
   "metadata": {},
   "source": [
    "Jusqu'à présent, nos conditions étaient conçues de conditions uniques. Cependant, très souvent, nous devrons tester plusieurs conditions et ensuite exécuter un bloc particulier. Python fournit un certain nombre de façons de le faire. Le premier est avec l'instruction `and`. `and` nous permet de juxtaposer deux expressions qui doivent être vraies afin de rendre l'expression entière évaluée à `True`. Voyons voir comment cela fonctionne:"
   ]
  },
  {
   "cell_type": "code",
   "execution_count": null,
   "metadata": {
    "scrolled": true
   },
   "outputs": [],
   "source": [
    "mot = \"banane\"\n",
    "if \"a\" in mot and \"b\" in mot:\n",
    "    print(\"a et b sont dans \" + mot)"
   ]
  },
  {
   "cell_type": "markdown",
   "metadata": {},
   "source": [
    "Si l'une des expressions est évaluée à `False`, rien ne sera affiché:"
   ]
  },
  {
   "cell_type": "code",
   "execution_count": null,
   "metadata": {
    "scrolled": true
   },
   "outputs": [],
   "source": [
    "if \"a\" in mot and \"z\" in mot:\n",
    "    print(\"a et w sont dans \" + mot)"
   ]
  },
  {
   "cell_type": "markdown",
   "metadata": {},
   "source": [
    "-------"
   ]
  },
  {
   "cell_type": "markdown",
   "metadata": {},
   "source": [
    "#### Exercice"
   ]
  },
  {
   "cell_type": "markdown",
   "metadata": {},
   "source": [
    "Remplacez `and` avec `or` dans l'expression `if` ci-dessous. Que se passe-t-il ? "
   ]
  },
  {
   "cell_type": "code",
   "execution_count": null,
   "metadata": {
    "scrolled": true
   },
   "outputs": [],
   "source": [
    "mot = \"banane\"\n",
    "if \"a\" in mot and \"z\" in mot:\n",
    "    print(\"a et/ou z sont dans \" + mot)"
   ]
  },
  {
   "cell_type": "markdown",
   "metadata": {},
   "source": [
    "Dans le bloc de code ci-dessous, pouvez-vous ajouter une instruction `else` qui affiche qu'aucune des lettres n'a été trouvée?"
   ]
  },
  {
   "cell_type": "code",
   "execution_count": null,
   "metadata": {
    "scrolled": true
   },
   "outputs": [],
   "source": [
    "mot = 'strike'\n",
    "if \"a\" in mot and \"z\" in mot:\n",
    "    print(\"A et z sont dans \" + mot)\n",
    "elif \"a\" in mot or \"z\" in mot:\n",
    "    print(\"a ou z sont dans \" + mot)\n",
    "# Votre code ici"
   ]
  },
  {
   "cell_type": "markdown",
   "metadata": {},
   "source": [
    "----------"
   ]
  },
  {
   "cell_type": "markdown",
   "metadata": {},
   "source": [
    "Enfin, nous pouvons utiliser `not` pour tester les conditions qui ne sont pas vraies."
   ]
  },
  {
   "cell_type": "code",
   "execution_count": null,
   "metadata": {
    "scrolled": true
   },
   "outputs": [],
   "source": [
    "if \"z\" not in mot:\n",
    "    print(\"z n'est pas dans \" + mot)"
   ]
  },
  {
   "cell_type": "markdown",
   "metadata": {},
   "source": [
    "Les objets, tels que les chaînes ou les entiers ou les listes sont `True`, car ils existent. \n",
    "\n",
    "Mais, les chaînes, les listes, les dictionnaires, etc. vides sont `False`, car d'une certaine manière ils n'existent pas. Nous pouvons utiliser ce principe pour - par exemple - seulement exécuter un morceau de code si une liste contient des valeurs:"
   ]
  },
  {
   "cell_type": "code",
   "execution_count": null,
   "metadata": {
    "scrolled": true
   },
   "outputs": [],
   "source": [
    "nombres = [1, 2, 3, 4]\n",
    "if nombres:\n",
    "    print(\"J'ai trouvé une liste pleine !\")"
   ]
  },
  {
   "cell_type": "markdown",
   "metadata": {},
   "source": [
    "Maintenant, si la liste était vide, cela reviendrait donc à `False`:"
   ]
  },
  {
   "cell_type": "code",
   "execution_count": null,
   "metadata": {
    "scrolled": true
   },
   "outputs": [],
   "source": [
    "nombres = []\n",
    "if nombres:\n",
    "    print(\"J'ai trouvé une liste pleine !\")\n",
    "else:\n",
    "    print('Rien du tout')"
   ]
  },
  {
   "cell_type": "markdown",
   "metadata": {},
   "source": [
    "--------"
   ]
  },
  {
   "cell_type": "markdown",
   "metadata": {},
   "source": [
    "#### Exercice"
   ]
  },
  {
   "cell_type": "markdown",
   "metadata": {},
   "source": [
    "Pouvez-vous écrire un bloc qui affiche \"C'est une liste vide\" si la liste fournie ne contient rien ?"
   ]
  },
  {
   "cell_type": "code",
   "execution_count": null,
   "metadata": {
    "scrolled": true
   },
   "outputs": [],
   "source": [
    "nombres = []\n",
    "# Votre code ici"
   ]
  },
  {
   "cell_type": "markdown",
   "metadata": {},
   "source": [
    "Pouvez-vous faire la même chose mais cette fois-ci avec `len()`?"
   ]
  },
  {
   "cell_type": "code",
   "execution_count": null,
   "metadata": {
    "scrolled": true
   },
   "outputs": [],
   "source": [
    "nombres = []\n",
    "# Votre code ici"
   ]
  },
  {
   "cell_type": "markdown",
   "metadata": {},
   "source": [
    "-----------"
   ]
  },
  {
   "cell_type": "markdown",
   "metadata": {},
   "source": [
    "##### Ce que l'on a appris"
   ]
  },
  {
   "cell_type": "markdown",
   "metadata": {},
   "source": [
    "Pour finir cette section, voici un récapitulatif des concepts appris. Lisez la liste et posez des questions si certaines choses ne sont pas claires.\n",
    "\n",
    "-  conditions\n",
    "-  indentation\n",
    "-  `if`\n",
    "-  `elif`\n",
    "-  `else`\n",
    "-  `True`\n",
    "-  `False`\n",
    "-  les objets vides sont `False`\n",
    "-  `not`\n",
    "-  `in`\n",
    "-  `and`\n",
    "-  `or`\n",
    "-  conditions multiples\n",
    "-  `==`\n",
    "-  `<`\n",
    "-  `>`\n",
    "-  `!=`\n",
    "-  `KeyError`"
   ]
  },
  {
   "cell_type": "markdown",
   "metadata": {},
   "source": [
    "---------"
   ]
  },
  {
   "cell_type": "markdown",
   "metadata": {},
   "source": [
    "## Les Boucles"
   ]
  },
  {
   "cell_type": "markdown",
   "metadata": {},
   "source": [
    "La programmation est très utile quand nous pouvons effectuer une même action sur un ensemble d'éléments différents. Par exemple, étant donné une liste de mots, nous aimerions connaître la longueur de tous les mots, pas seulement un. Vous  pouvez bien sûr le faire en parcourant tous les index d'une liste de mots et en imprimant la longueur des mots un à la fois, en prenant autant de lignes de code que vous avez d'index. Inutile de dire que c'est plutôt long et désagréable. Et vous devez connaître le nombre de mots.\n",
    "\n",
    "Python fournit la déclaration `for` qui nous permet d'itérer à travers n'importe quel objet itératif et effectuer des actions sur ses éléments. Le format de base d'une déclaration `for` est:\n",
    "\n",
    "`for x in iterable:`\n",
    "\n",
    "Cela se traduit en français par \"pour chaque élément - que l'on stockera dans x - trouvable dans la variable iterable\". Par exemple, pour imprimer les lettres de bananes une à une:"
   ]
  },
  {
   "cell_type": "code",
   "execution_count": null,
   "metadata": {
    "scrolled": true
   },
   "outputs": [],
   "source": [
    "for lettre in \"banane\":\n",
    "    print(lettre)\n",
    "    \n",
    "    \n",
    "print(lettre)"
   ]
  },
  {
   "cell_type": "markdown",
   "metadata": {},
   "source": [
    "Le code dans la boucle est exécuté autant de fois qu'il y a de lettres, avec une valeur différente pour la variable `lettre` à chaque itération. Relisez la phrase précédente autant de fois que nécessaire, prenez votre temps. N'hésitez pas à poser des questions à ce moment-là.\n",
    "\n",
    "De même, nous pouvons afficher tous les éléments qui sont contenus dans une liste:"
   ]
  },
  {
   "cell_type": "code",
   "execution_count": null,
   "metadata": {
    "scrolled": true
   },
   "outputs": [],
   "source": [
    "couleurs = [\"jaune\", \"rouge\", \"vert\", \"bleu\", \"violet\"]\n",
    "for nimportequoi in couleurs:\n",
    "    print(\"C'est la couleur \" + nimportequoi)"
   ]
  },
  {
   "cell_type": "markdown",
   "metadata": {},
   "source": [
    "Puisque les dictionnaires sont des objets itératifs, nous pouvons aussi parcourir notre collection de bonnes lectures. Cela va parcourir les *clés* d'un dictionnaire:"
   ]
  },
  {
   "cell_type": "code",
   "execution_count": null,
   "metadata": {
    "scrolled": true
   },
   "outputs": [],
   "source": [
    "for livre in bonnes_lectures:\n",
    "    print(livre)"
   ]
  },
  {
   "cell_type": "markdown",
   "metadata": {},
   "source": [
    "Nous pouvons également parcourir à la fois les clés et les valeurs d'un dictionnaire, ceci se fait comme cela :"
   ]
  },
  {
   "cell_type": "code",
   "execution_count": null,
   "metadata": {
    "scrolled": true
   },
   "outputs": [],
   "source": [
    "bonnes_lectures.items()"
   ]
  },
  {
   "cell_type": "code",
   "execution_count": null,
   "metadata": {
    "scrolled": true
   },
   "outputs": [],
   "source": [
    "for livre, note in bonnes_lectures.items():\n",
    "    print(livre + \" a une note de \" + str(note))"
   ]
  },
  {
   "cell_type": "markdown",
   "metadata": {},
   "source": [
    "L'utilisation de `items()` va, à chaque itération, retourner un `tuple` clé-valeur. Dans l'exemple ci-dessus, la variable `livre` boucle sur les clés du dictionnaire, et la variable `note` boucle sur les valeurs.\n",
    "\n",
    "Cette manière est la manière la plus élégante de boucler sur des dictionnaires, mais essayez de voir si vous comprenez également l'alternative suivante:"
   ]
  },
  {
   "cell_type": "code",
   "execution_count": null,
   "metadata": {
    "scrolled": true
   },
   "outputs": [],
   "source": [
    "for livre in bonnes_lectures:\n",
    "    print(livre + \" a une note de \" + str(bonnes_lectures[livre]))"
   ]
  },
  {
   "cell_type": "markdown",
   "metadata": {},
   "source": [
    "#### Bonus : caster en chaîne"
   ]
  },
  {
   "cell_type": "markdown",
   "metadata": {},
   "source": [
    "Exécutez le bloc suivant:"
   ]
  },
  {
   "cell_type": "code",
   "execution_count": null,
   "metadata": {},
   "outputs": [],
   "source": [
    "livre = \"Voyage au bout de la nuit\"\n",
    "print(livre + \" a une note de \" + bonnes_lectures[livre])"
   ]
  },
  {
   "cell_type": "markdown",
   "metadata": {},
   "source": [
    "Vous avez une `TypeError` : Python vous dit que, en somme, il n'est pas capable de convertir le nombre entier en chaîne, et que, du coup, il ne peut pas additionner un nombre et une chaîne. C'est pour cela que plus haut, nous devions utiliser `str()` qui type automatiquement un objet en chaîne.\n",
    "\n",
    "Prenez le temps et essayez de comprendre les blocs suivants:"
   ]
  },
  {
   "cell_type": "code",
   "execution_count": null,
   "metadata": {},
   "outputs": [],
   "source": [
    "entier = 1\n",
    "chaine = \"1\"\n",
    "print(int(chaine) + entier)\n",
    "print(chaine + str(entier))\n",
    "\n",
    "print(type(entier))\n",
    "print(type(chaine))\n",
    "print(type(int(chaine) + entier))\n",
    "print(type(chaine + str(entier)))"
   ]
  },
  {
   "cell_type": "markdown",
   "metadata": {},
   "source": [
    "-------"
   ]
  },
  {
   "cell_type": "markdown",
   "metadata": {},
   "source": [
    "#### Exercice"
   ]
  },
  {
   "cell_type": "markdown",
   "metadata": {},
   "source": [
    "La fonction `len()` retourne la longueur d'un objet itérable:"
   ]
  },
  {
   "cell_type": "code",
   "execution_count": null,
   "metadata": {
    "scrolled": true
   },
   "outputs": [],
   "source": [
    "len(\"banane\")"
   ]
  },
  {
   "cell_type": "markdown",
   "metadata": {},
   "source": [
    "Nous pouvons utiliser cette fonction pour afficher la longueur de chaque mot dans la liste des couleurs. Écrivez votre code dans la case ci-dessous:"
   ]
  },
  {
   "cell_type": "code",
   "execution_count": null,
   "metadata": {
    "scrolled": true
   },
   "outputs": [],
   "source": [
    "couleurs = [\"jaune\", \"rouge\", \"vert\", \"bleu\", \"violet\"]\n",
    "# Votre code ici"
   ]
  },
  {
   "cell_type": "markdown",
   "metadata": {},
   "source": [
    "Maintenant, écrivez un petit programme qui boucle sur la liste `couleurs` et qui ajoute les couleurs qui contiennent la lettre r dans l'autre liste `couleurs_avec_un_r`"
   ]
  },
  {
   "cell_type": "code",
   "execution_count": null,
   "metadata": {
    "scrolled": true
   },
   "outputs": [],
   "source": [
    "couleurs = [\"jaune\", \"rouge\", \"vert\", \"bleu\", \"violet\"]\n",
    "couleurs_avec_un_r = []\n",
    "# Votre code ici"
   ]
  },
  {
   "cell_type": "markdown",
   "metadata": {},
   "source": [
    "-----------"
   ]
  },
  {
   "cell_type": "markdown",
   "metadata": {},
   "source": [
    "##### Ce que l'on a appris"
   ]
  },
  {
   "cell_type": "markdown",
   "metadata": {},
   "source": [
    "Pour finir cette section, voici un récapitulatif des concepts appris. Lisez la liste et posez des questions si certaines choses ne sont pas claires.\n",
    "\n",
    "- les boucles\n",
    "- `for`\n",
    "- les objets iterables / itératifs\n",
    "- l'assignation de variables dans une boucle `for`\n",
    "- typer/caster des valeurs\n",
    "- `TypeError`"
   ]
  },
  {
   "cell_type": "markdown",
   "metadata": {},
   "source": [
    "--------"
   ]
  },
  {
   "cell_type": "markdown",
   "metadata": {},
   "source": [
    "#### Exercice de fin de chapitre"
   ]
  },
  {
   "cell_type": "markdown",
   "metadata": {},
   "source": [
    "Nous avons vu beaucoup de choses. Il est maintenant temps de mettre tout ce que nous avons appris à l'épreuve. L'exercice suivant pourrait être assez difficile, mais vous avez les moyens de le faire!\n",
    "\n",
    "Ce que nous voulons que vous fassiez, c'est écrire du code qui compte le nombre total de *a* présent dans le texte, en fonction du dictionnaire de fréquence de mot suivant. Vous devez le faire sur la base d'une distribution de fréquence de mots représentée par un dictionnaire. Dans ce dictionnaire `distribution`, les clés sont des mots et les valeurs sont les fréquences. Affectez votre décompte de `a` à la variable `nombre_de_a`."
   ]
  },
  {
   "cell_type": "code",
   "execution_count": null,
   "metadata": {
    "scrolled": true
   },
   "outputs": [],
   "source": [
    "distribution = {'1821': 1, '2006': 1, 'Depuis': 1, 'Enseignement': 1, 'Fondée': 1, \n",
    "'L': 1, 'Recherche': 1, 'Technologies': 1, 'a': 1, 'appliquées': 1, \n",
    "'aux': 1, 'chartes': 2, 'd': 1, 'dans': 1, 'de': 3, 'des': 2, 'du': 1, \n",
    "'en': 1, 'est': 2, 'et': 2, 'fondamentales': 1, 'formant': 1, 'formation': 1, \n",
    "'française': 1, 'grand': 1, 'grande': 1, 'histoire': 2, 'intitulé': 1, 'l': 6, \n",
    "'la': 3, 'le': 1, 'master': 1, 'ministère': 1, 'nationale': 2, 'numériques': 1, \n",
    "'ouvert': 1, 'par': 1, 'placée': 1, 'possède': 1, 'promotion': 1, 'sciences': 1, \n",
    "'sous': 1, 'spécialisée': 1, 'statut': 1, 'supérieur': 1, 'tutelle': 1, 'un': 1, \n",
    "'une': 2, 'vingtaine': 1, '«': 1, '»': 1, 'École': 3, 'Éducation': 1, 'à': 1, 'école': 1, \n",
    "'établissement': 1, 'étudiants': 1}\n",
    "\n",
    "nombre_de_a = 0\n",
    "# On code ici\n",
    "\n",
    "\n",
    "# Ce code vérifie\n",
    "if nombre_de_a == 30:\n",
    "    print('Bien joué!')\n",
    "else:\n",
    "    print('La réponse est incorrecte, essaye encore!')"
   ]
  },
  {
   "cell_type": "markdown",
   "metadata": {},
   "source": [
    "-------"
   ]
  },
  {
   "cell_type": "markdown",
   "metadata": {},
   "source": [
    "---"
   ]
  },
  {
   "cell_type": "markdown",
   "metadata": {},
   "source": [
    "<p><small><a rel=\"license\" href=\"http://creativecommons.org/licenses/by-sa/4.0/\"><img alt=\"Creative Commons License\" style=\"border-width:0\" src=\"https://i.creativecommons.org/l/by-sa/4.0/88x31.png\" /></a><br /><span xmlns:dct=\"http://purl.org/dc/terms/\" property=\"dct:title\">Python Programming for the Humanities</span> by <a xmlns:cc=\"http://creativecommons.org/ns#\" href=\"http://fbkarsdorp.github.io/python-course\" property=\"cc:attributionName\" rel=\"cc:attributionURL\">http://fbkarsdorp.github.io/python-course</a> is licensed under a <a rel=\"license\" href=\"http://creativecommons.org/licenses/by-sa/4.0/\">Creative Commons Attribution-ShareAlike 4.0 International License</a>. Based on a work at <a xmlns:dct=\"http://purl.org/dc/terms/\" href=\"https://github.com/fbkarsdorp/python-course\" rel=\"dct:source\">https://github.com/fbkarsdorp/python-course</a>.</small></p>"
   ]
  }
 ],
 "metadata": {
  "kernelspec": {
   "display_name": "Python 3 (ipykernel)",
   "language": "python",
   "name": "python3"
  },
  "language_info": {
   "codemirror_mode": {
    "name": "ipython",
    "version": 3
   },
   "file_extension": ".py",
   "mimetype": "text/x-python",
   "name": "python",
   "nbconvert_exporter": "python",
   "pygments_lexer": "ipython3",
   "version": "3.8.10"
  },
  "toc": {
   "base_numbering": 1,
   "nav_menu": {},
   "number_sections": true,
   "sideBar": true,
   "skip_h1_title": false,
   "title_cell": "Table of Contents",
   "title_sidebar": "Contents",
   "toc_cell": false,
   "toc_position": {},
   "toc_section_display": true,
   "toc_window_display": true
  }
 },
 "nbformat": 4,
 "nbformat_minor": 1
}
