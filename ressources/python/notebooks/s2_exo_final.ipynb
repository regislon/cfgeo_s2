{
 "cells": [
  {
   "cell_type": "markdown",
   "id": "b43030e6",
   "metadata": {},
   "source": [
    "## Excercie chargement des bien-fonds dans PostGIS"
   ]
  },
  {
   "cell_type": "markdown",
   "id": "e63e308f",
   "metadata": {},
   "source": [
    "## Objectif\n",
    "\n",
    "Dans cet execrcie, nous allons charger les bien-fonds de la commuene d'Yverdon dans une table de la base PostgreSQL. Les bien-fonds provindrons du service REST de l'ArcGIS server du canton de Vaud. Ils seront téléchargés sous la forme de JSON. "
   ]
  },
  {
   "cell_type": "code",
   "execution_count": 1,
   "id": "4a222a24",
   "metadata": {},
   "outputs": [],
   "source": [
    "import os"
   ]
  },
  {
   "cell_type": "markdown",
   "id": "6ca7df6d",
   "metadata": {},
   "source": [
    "## Récupération des données\n",
    "\n",
    "L'url du service REST du canton de vaud est : https://ags.vd.ch/arcgis/rest/services/OGC/wmsVD/MapServer. Cette URL propose  les couches publiques de l'administration cantonale. \n",
    "\n",
    "En cliquant sur l'une d'entre elle, il est possible d'obtenir le détail de cette dernière, ainsi que, tout en bas de la page, un lien nommée \"Query\" permettant de construire une requête pour obtenir les données.\n",
    "\n",
    "L'url de la couche des bien-fonds est : https://ags.vd.ch/arcgis/rest/services/OGC/wmsVD/MapServer/272\n"
   ]
  },
  {
   "cell_type": "markdown",
   "id": "cf907d04",
   "metadata": {},
   "source": [
    "A l'aide de l'interface https://ags.vd.ch/arcgis/rest/services/OGC/wmsVD/MapServer/272, créer ci-desous une variable \"url_query\" qui contient url pour télécharger le json.\n",
    "\n",
    "Astuces : \n",
    "* Pour affiner le résultat, le numéro de commune vaudois (NO_COM_CANT) est égale à 387 A remplir dans le champ \"Where\"\n",
    "* Il faut mettre * dans le champ \"Out Fields\"\n",
    "* Il faut sélectionner \"GeoJSON\" dans le champ \"Format\"\n",
    "* les système de coordonnée de sortie doit être le 2056 (MN95)"
   ]
  },
  {
   "cell_type": "code",
   "execution_count": 2,
   "id": "ce891678",
   "metadata": {},
   "outputs": [
    {
     "name": "stdout",
     "output_type": "stream",
     "text": [
      "None\n",
      "https://ags.vd.ch/arcgis/rest/services/OGC/wmsVD/MapServer/272/query?where=NO_COM_CANT%3D387&text=&objectIds=&time=&geometry=&geometryType=esriGeometryEnvelope&inSR=&spatialRel=esriSpatialRelIntersects&distance=&units=esriSRUnit_Foot&relationParam=&outFields=*&returnGeometry=true&returnTrueCurves=false&maxAllowableOffset=&geometryPrecision=&outSR=2056&havingClause=&returnIdsOnly=false&returnCountOnly=false&orderByFields=&groupByFieldsForStatistics=&outStatistics=&returnZ=false&returnM=false&gdbVersion=&historicMoment=&returnDistinctValues=false&resultOffset=&resultRecordCount=&returnExtentOnly=false&datumTransformation=&parameterValues=&rangeValues=&quantizationParameters=&featureEncoding=esriDefault&f=geojson\n"
     ]
    }
   ],
   "source": [
    "url_query = None \n",
    "print(url_query)\n",
    "\n",
    "# Corrcetion \n",
    "layer_no = \"272\"\n",
    "out_format = \"geojson\"\n",
    "where_clause = \"NO_COM_CANT%3D387\"\n",
    "fields = \"*\"\n",
    "epsg = \"2056\"\n",
    "\n",
    "url_query = \"https://ags.vd.ch/arcgis/rest/services/OGC/wmsVD/MapServer/{layer_no}/query?where={where_clause}&text=&objectIds=&time=&geometry=&geometryType=esriGeometryEnvelope&inSR=&spatialRel=esriSpatialRelIntersects&distance=&units=esriSRUnit_Foot&relationParam=&outFields={fields}&returnGeometry=true&returnTrueCurves=false&maxAllowableOffset=&geometryPrecision=&outSR={epsg}&havingClause=&returnIdsOnly=false&returnCountOnly=false&orderByFields=&groupByFieldsForStatistics=&outStatistics=&returnZ=false&returnM=false&gdbVersion=&historicMoment=&returnDistinctValues=false&resultOffset=&resultRecordCount=&returnExtentOnly=false&datumTransformation=&parameterValues=&rangeValues=&quantizationParameters=&featureEncoding=esriDefault&f={out_format}\".format(layer_no=layer_no,where_clause=where_clause,fields=fields,out_format=out_format,epsg=epsg)\n",
    "print(url_query)"
   ]
  },
  {
   "cell_type": "markdown",
   "id": "c38292ac",
   "metadata": {},
   "source": [
    "Pour vérifier que l'url a été correctement construite, il suffit de cliquer sur le lien printé pour voir si l'on obtient un JSON.\n",
    "\n",
    "Est-ce OK ? si oui, on continue en téléchargant le JSON dans une variable nommée \"input_data\" puis en imprimant le code status de la requête"
   ]
  },
  {
   "cell_type": "code",
   "execution_count": 3,
   "id": "316566e6",
   "metadata": {},
   "outputs": [
    {
     "name": "stdout",
     "output_type": "stream",
     "text": [
      "200\n"
     ]
    }
   ],
   "source": [
    "import requests\n",
    "\n",
    "input_data = None # A compléter \n",
    "\n",
    "# Corrcetion \n",
    "input_data = requests.get(url_query)\n",
    "print(input_data.status_code)\n"
   ]
  },
  {
   "cell_type": "markdown",
   "id": "719254e8",
   "metadata": {},
   "source": [
    "## Connection à la base de données\n",
    "\n",
    "Nous allons maintenant nous connecter à la base de données à l'aide de psycopg2"
   ]
  },
  {
   "cell_type": "code",
   "execution_count": 4,
   "id": "30a969e8",
   "metadata": {},
   "outputs": [],
   "source": [
    "import psycopg2"
   ]
  },
  {
   "cell_type": "code",
   "execution_count": 5,
   "id": "df2880de",
   "metadata": {},
   "outputs": [],
   "source": [
    "# Remplir ici les variable de connection\n",
    "\n",
    "host = \"localhost\"\n",
    "database = \"cfgeo\"\n",
    "user = 'postgres'\n",
    "password = 'postgres'"
   ]
  },
  {
   "cell_type": "code",
   "execution_count": 12,
   "id": "dc4f36b1",
   "metadata": {},
   "outputs": [],
   "source": [
    "conn = psycopg2.connect(host=host,database=database,user=user,password=password)"
   ]
  },
  {
   "cell_type": "markdown",
   "id": "8d2f81af",
   "metadata": {},
   "source": [
    "## Création des la table dans la base de données\n",
    "\n",
    "Maintenant que nos données sont contenues dans la variable \"input_data\", nous devont créer la table \"bf\" dans la base de données PostgreSQL. \n",
    "\n",
    "La table doit contenir les colonnes suivantes :\n",
    "\n",
    "|Nom de l'attibut   |Type   |\n",
    "|---|---|\n",
    "|no_cantonal   |character varying(254)   |\n",
    "|numero   |character varying(10)   |\n",
    "|genre   |character varying(254)   |\n",
    "|geom   |geometry(Polygon,2056)   |\n",
    "\n",
    "\n",
    "Le code SQL de création doit être nommé \"create_table_query\""
   ]
  },
  {
   "cell_type": "code",
   "execution_count": 14,
   "id": "9146ee13",
   "metadata": {},
   "outputs": [],
   "source": [
    "\n",
    "\n",
    "create_table_query = \"\" # A compléter ici\n",
    "\n",
    "# Corrcetion \n",
    "create_table_query = \"\"\"\n",
    "\n",
    "DROP TABLE if exists public.bf;\n",
    "\n",
    "CREATE TABLE public.bf\n",
    "(\n",
    "    no_cantonal character varying(254),\n",
    "    numero character varying(10),\n",
    "    genre character varying(254),\n",
    "    geom geometry(Polygon,2056)\n",
    ");\n",
    "\n",
    "ALTER TABLE public.bf\n",
    "    OWNER to postgres;\n",
    "\n",
    "-- Index: commune_geom\n",
    "\n",
    "DROP INDEX if exists public.bf_geom;\n",
    "\n",
    "CREATE INDEX bf_geom\n",
    "    ON public.bf USING gist\n",
    "    (geom)\n",
    "    TABLESPACE pg_default;\n",
    "\n",
    "\"\"\"\n",
    "\n",
    "\n",
    "\n",
    "cursor = conn.cursor()\n",
    "cursor.execute(create_table_query)\n",
    "conn.commit()\n"
   ]
  },
  {
   "cell_type": "markdown",
   "id": "df4c9189",
   "metadata": {},
   "source": [
    "La table s'est-elle correctement  créée ? Je vous invite à controler cela à l'aide pgAdmin ou bien QGIS "
   ]
  },
  {
   "cell_type": "markdown",
   "id": "90dcadba",
   "metadata": {},
   "source": [
    "## Enregistrement des données \n",
    "\n",
    "Passons dans le vif du sujet, nous avons les données, la table est prête. Nous pouvons enregistrer les bien-fonds dans la table. \n",
    "\n",
    "Pour ce faire, nous devons analyser le schéma du json, itérer chaque objet (feature) pour créer une requête SQL pour chaque bien-fonds incluant les attributs définis précédemment ainsi que la geometrie.\n",
    "\n",
    "<img src=\"images/schema_json.png\" alt=\"drawing\" width=\"800\"/>\n",
    "\n"
   ]
  },
  {
   "cell_type": "markdown",
   "id": "eb830c3b",
   "metadata": {},
   "source": [
    "Astuces :\n",
    "* il faut charger le json comme un dictionnaire python.\n",
    "* puis créer une boucle en itérant dans le niveau \"features\"\n",
    "* pour chaque itération créer les attributs correspondant aux colonnes de la table dans le base de données PostgreSQL\n",
    "* créer la géométrie. pour ce faire, regarder les fonctions suivantes:\n",
    "    * https://postgis.net/docs/ST_GeomFromGeoJSON.html\n",
    "    * https://postgis.net/docs/ST_SetSRID.html\n",
    "    \n",
    "    (il faudra utiliser ces deux fonctions pour indiquer à postGIS que nous lui transmettons une géométrie au format GeoJSON en 2056 (MN95)\n",
    "* voici un exemple d'insertion de données à l'aide de psycopg2 \n",
    "\n",
    "\n",
    "```\n",
    "    cursor = conn.cursor()\n",
    "    insert_feature_query = \"Votre requête insert\"\n",
    "    try:\n",
    "        cursor.execute(insert_feature_query) \n",
    "        conn.commit()\n",
    "    except Exception as error:\n",
    "        print(error)\n",
    "        conn.rollback()\n",
    "    cursor.close()\n",
    "```\n",
    " \n"
   ]
  },
  {
   "cell_type": "code",
   "execution_count": 16,
   "id": "23f7863b",
   "metadata": {},
   "outputs": [],
   "source": [
    "import json \n",
    "\n",
    "\n",
    "# Corrcetion \n",
    "\n",
    "\n",
    "cursor = conn.cursor()\n",
    "for feature in input_data.json()[\"features\"] :\n",
    "    geometry = feature[\"geometry\"]\n",
    "    attributes = feature[\"properties\"]\n",
    "    no_cantonal = attributes[\"NO_COM_CANT\"]\n",
    "    numero = attributes[\"NUMERO\"]\n",
    "    genre = attributes[\"GENRE_TXT\"]\n",
    "    \n",
    "    \n",
    "    geometry_geojson = json.dumps(geometry)\n",
    "    \n",
    "    \n",
    "    \n",
    "    insert_feature_query = \"INSERT INTO public.bf (no_cantonal, numero, genre,geom)  VALUES ('{no_cantonal}','{numero}','{genre}',ST_SetSRID(ST_GeomFromGeoJSON('{geom}'),2056));\".format(no_cantonal=no_cantonal,numero=numero,genre=genre,geom=geometry_geojson)\n",
    "\n",
    "    try:\n",
    "        cursor.execute(insert_feature_query) \n",
    "        conn.commit()\n",
    "    except Exception as error:\n",
    "        print(error)\n",
    "        conn.rollback()\n",
    "\n",
    "cursor.close()\n",
    "    \n",
    "    \n",
    "    \n",
    "\n"
   ]
  },
  {
   "cell_type": "markdown",
   "id": "5a57acd1",
   "metadata": {},
   "source": [
    "A-t-on récupérer tous les bien-fonds de la commune ? Je vous laisse aller voir cette table avec Qgis.\n",
    "\n",
    "<img src=\"images/error_1000.png\" alt=\"drawing\" width=\"800\"/>\n",
    "\n",
    "Eh non, la totalité des bien-fonds n'ont pas été introduite dans notre table. Cela vien du fait que le requête limite le nombre d'objet à 1000. Nous avons que 1000 biens-fond dans la table. Nous devons donc trouver une autre stratégie. "
   ]
  },
  {
   "cell_type": "markdown",
   "id": "df6be578",
   "metadata": {},
   "source": [
    "## Récupération des données par ObjectID\n",
    "\n",
    "Il existe une requête qui n'est pas limitée à 1000 object, celle qui retour uniquement les identifiants uniques des biens-fonds. \n",
    "\n",
    "<img src=\"images/ids.png\" alt=\"drawing\" width=\"400\"/>\n",
    "\n",
    "La stratégie est la suivante :\n",
    "* Récupérer tous les identifiants uniques sous forme de liste\n",
    "* Utiliser les valeurs minumum et maximum des identifiants uniques pour créer des lots de 1000\n",
    "* Itérer à travers ces lots en les incluant dans les paramètres de l'url (where_clause)\n",
    "\n",
    "<img src=\"images/ids2.png\" alt=\"drawing\" width=\"600\"/>"
   ]
  },
  {
   "cell_type": "markdown",
   "id": "c042c420",
   "metadata": {},
   "source": [
    "Première étape : créer les lots d'object_id. \n",
    "Pour ce faire :\n",
    "* Créer une variable \"list_objectids\" qui récupère tous les objectids\n",
    "* Créer une variable \"min_objectid\" qui prend la valeur minimum de la liste (google est ton ami)\n",
    "* Créer une variable \"max_objectid\" qui prend la valeur maximum de la liste (google est ton ami)\n",
    "* Créer une variable \"list_lots_objectids\" qui a la forme suivante :\n",
    "\n",
    "```[[min_objectid_lot_1, max_objectid_lot_1],[min_objectid_lot_2, max_objectid_lot_2], ..., [min_objectid_lot_n, max_objectid_lot_n]```\n"
   ]
  },
  {
   "cell_type": "code",
   "execution_count": 30,
   "id": "523f9241",
   "metadata": {},
   "outputs": [],
   "source": [
    "url_query = None # A modifier\n",
    "list_objectids = None # A modifier\n",
    "min_objectid = None  # A modifier\n",
    "max_objectid = None # A modifier\n",
    "list_lots_objectids = list() # A modifier\n",
    "\n",
    "\n",
    "# Corrcetion \n",
    "layer_no = \"272\"\n",
    "out_format = \"geojson\"\n",
    "where_clause = \"NO_COM_CANT%3D387\"\n",
    "\n",
    "url_query = \"https://ags.vd.ch/arcgis/rest/services/OGC/wmsVD/MapServer/{layer_no}/query?where={where_clause}&text=&objectIds=&time=&geometry=&geometryType=esriGeometryEnvelope&inSR=&spatialRel=esriSpatialRelIntersects&distance=&units=esriSRUnit_Foot&relationParam=&outFields=&returnGeometry=true&returnTrueCurves=false&maxAllowableOffset=&geometryPrecision=&outSR=&havingClause=&returnIdsOnly=true&returnCountOnly=false&orderByFields=&groupByFieldsForStatistics=&outStatistics=&returnZ=false&returnM=false&gdbVersion=&historicMoment=&returnDistinctValues=false&resultOffset=&resultRecordCount=&returnExtentOnly=false&datumTransformation=&parameterValues=&rangeValues=&quantizationParameters=&featureEncoding=esriDefault&f={out_format}\".format(layer_no=layer_no,where_clause=where_clause,out_format=out_format)\n",
    "\n",
    "input_data = requests.get(url_query)\n",
    "list_objectids = input_data.json()[\"objectIds\"]\n",
    "min_objectid = min(list_objectids)\n",
    "max_objectid = max(list_objectids)\n",
    "\n",
    "for lot_min in range(min_objectid,max_objectid,1000):\n",
    "    list_temp = list()\n",
    "    list_temp.append(lot_min)\n",
    "    list_temp.append(lot_min+1000)\n",
    "    list_lots_objectids.append(list_temp)\n",
    "   \n"
   ]
  },
  {
   "cell_type": "markdown",
   "id": "dd0c0ede",
   "metadata": {},
   "source": [
    "Seconde étape : Créer les requêtes de façon itérative en ajoutant la contraite des IDs. Puis créer une variabelnommée \"list_input_data\" pour sauvegarder le retour des requêtes."
   ]
  },
  {
   "cell_type": "code",
   "execution_count": 33,
   "id": "6bf0c8c4",
   "metadata": {},
   "outputs": [],
   "source": [
    "list_input_data = list()\n",
    "\n",
    "# Corrcetion\n",
    "\n",
    "\n",
    "layer_no = \"272\"\n",
    "out_format = \"geojson\"\n",
    "fields = \"*\"\n",
    "epsg = \"2056\"\n",
    "\n",
    "\n",
    "for lot in list_lots_objectids :\n",
    "    id_min = lot[0]\n",
    "    id_max = lot[1]\n",
    "    where_clause = \"NO_COM_CANT=387 and OBJECTID >= {} and OBJECTID < {}\".format(id_min,id_max)\n",
    "    \n",
    "    url_query = \"https://ags.vd.ch/arcgis/rest/services/OGC/wmsVD/MapServer/{layer_no}/query?where={where_clause}&text=&objectIds=&time=&geometry=&geometryType=esriGeometryEnvelope&inSR=&spatialRel=esriSpatialRelIntersects&distance=&units=esriSRUnit_Foot&relationParam=&outFields={fields}&returnGeometry=true&returnTrueCurves=false&maxAllowableOffset=&geometryPrecision=&outSR={epsg}&havingClause=&returnIdsOnly=false&returnCountOnly=false&orderByFields=&groupByFieldsForStatistics=&outStatistics=&returnZ=false&returnM=false&gdbVersion=&historicMoment=&returnDistinctValues=false&resultOffset=&resultRecordCount=&returnExtentOnly=false&datumTransformation=&parameterValues=&rangeValues=&quantizationParameters=&featureEncoding=esriDefault&f={out_format}\".format(layer_no=layer_no,where_clause=where_clause,fields=fields,out_format=out_format,epsg=epsg)\n",
    "    input_data = requests.get(url_query)\n",
    "    list_input_data.append(input_data)\n",
    "    "
   ]
  },
  {
   "cell_type": "markdown",
   "id": "d279cd0d",
   "metadata": {},
   "source": [
    "Troisième étape : Maintenant il faut vide la table des bien-fond"
   ]
  },
  {
   "cell_type": "code",
   "execution_count": 34,
   "id": "25a213da",
   "metadata": {},
   "outputs": [],
   "source": [
    "create_table_query = \"\" # A compléter ici\n",
    "\n",
    "# Corrcetion \n",
    "create_table_query = \"TRUNCATE public.bf;\"\n",
    "\n",
    "\n",
    "cursor = conn.cursor()\n",
    "cursor.execute(create_table_query)\n",
    "conn.commit()"
   ]
  },
  {
   "cell_type": "markdown",
   "id": "1d14adad",
   "metadata": {},
   "source": [
    "Dernière étape : charger les nouvelles données"
   ]
  },
  {
   "cell_type": "code",
   "execution_count": 36,
   "id": "35ec7822",
   "metadata": {},
   "outputs": [],
   "source": [
    "import json \n",
    "\n",
    "\n",
    "# Corrcetion \n",
    "\n",
    "\n",
    "cursor = conn.cursor()\n",
    "\n",
    "for input_data in list_input_data :\n",
    "    for feature in input_data.json()[\"features\"] :\n",
    "        geometry = feature[\"geometry\"]\n",
    "        attributes = feature[\"properties\"]\n",
    "        no_cantonal = attributes[\"NO_COM_CANT\"]\n",
    "        numero = attributes[\"NUMERO\"]\n",
    "        genre = attributes[\"GENRE_TXT\"]\n",
    "        geometry_geojson = json.dumps(geometry)\n",
    "\n",
    "        insert_feature_query = \"INSERT INTO public.bf (no_cantonal, numero, genre,geom)  VALUES ('{no_cantonal}','{numero}','{genre}',ST_SetSRID(ST_GeomFromGeoJSON('{geom}'),2056));\".format(no_cantonal=no_cantonal,numero=numero,genre=genre,geom=geometry_geojson)\n",
    "\n",
    "        try:\n",
    "            cursor.execute(insert_feature_query) \n",
    "            conn.commit()\n",
    "        except Exception as error:\n",
    "            print(error)\n",
    "            conn.rollback()\n",
    "\n",
    "cursor.close()"
   ]
  },
  {
   "cell_type": "markdown",
   "id": "a2329f17",
   "metadata": {},
   "source": [
    "Et voilà, nos bien-fonds sont totalement chargés ! Bravo\n",
    "\n",
    "<img src=\"images/bf_all.png\" alt=\"drawing\" width=\"800\"/>"
   ]
  },
  {
   "cell_type": "markdown",
   "id": "de2ab8dd",
   "metadata": {},
   "source": [
    "\n",
    "\n",
    "Pour teminer, nous fermons la connection à la base de données"
   ]
  },
  {
   "cell_type": "code",
   "execution_count": 9,
   "id": "8fa6a317",
   "metadata": {},
   "outputs": [],
   "source": [
    "conn.close()"
   ]
  }
 ],
 "metadata": {
  "hide_input": false,
  "kernelspec": {
   "display_name": "Python 3 (ipykernel)",
   "language": "python",
   "name": "python3"
  },
  "language_info": {
   "codemirror_mode": {
    "name": "ipython",
    "version": 3
   },
   "file_extension": ".py",
   "mimetype": "text/x-python",
   "name": "python",
   "nbconvert_exporter": "python",
   "pygments_lexer": "ipython3",
   "version": "3.8.10"
  },
  "toc": {
   "base_numbering": 1,
   "nav_menu": {},
   "number_sections": true,
   "sideBar": true,
   "skip_h1_title": false,
   "title_cell": "Table of Contents",
   "title_sidebar": "Contents",
   "toc_cell": false,
   "toc_position": {},
   "toc_section_display": true,
   "toc_window_display": false
  },
  "varInspector": {
   "cols": {
    "lenName": 16,
    "lenType": 16,
    "lenVar": 40
   },
   "kernels_config": {
    "python": {
     "delete_cmd_postfix": "",
     "delete_cmd_prefix": "del ",
     "library": "var_list.py",
     "varRefreshCmd": "print(var_dic_list())"
    },
    "r": {
     "delete_cmd_postfix": ") ",
     "delete_cmd_prefix": "rm(",
     "library": "var_list.r",
     "varRefreshCmd": "cat(var_dic_list()) "
    }
   },
   "types_to_exclude": [
    "module",
    "function",
    "builtin_function_or_method",
    "instance",
    "_Feature"
   ],
   "window_display": false
  }
 },
 "nbformat": 4,
 "nbformat_minor": 5
}
